{
 "cells": [
  {
   "cell_type": "markdown",
   "id": "c324c75f-1236-43bf-8d9a-37000071e16b",
   "metadata": {},
   "source": [
    "### 모델 훈련\n",
    "개별 파일(MF.py, KNN.py)에서도 훈련이 가능하지만, 최상위 모듈인 train.py를 사용하여 학습을 진행할 수 있습니다.</br>\n",
    "train.py 모듈을 터미널에서 실행하는 것으로 학습할 수 있습니다.</br>\n",
    "train.py와 함께 사용할 수 있는 arguments들은 다음과 같습니다.</br>\n",
    "\n",
    "**mf 모델 학습용 arguments**\n",
    "- --mf : Matrix Factorization 모델의 학습 여부를 결정하는 인자입니다. --mf 를 입력하는 경우 학습을 진행하며, --no-mf를 입력하는 경우 해당 모델의 학습을 진행하지 않습니다.(입력하지 않았을 경우에는 학습 진행을 하도록 되어 있습니다.)\n",
    "- -k : Matrix Factorization 행렬의 크기를 결정하는 인자값입니다. (default = 200)\n",
    "- -e 또는 --epochs : mf 모델의 학습 횟수를 결정하는 인자입니다. (default = 1)\n",
    "- -b 또는 --batch_size : 학습 시 사용하는 batch_size를 결정하는 인자입니다.(default = 512)\n",
    "\n",
    "**knn 모델 학습용 arguments**\n",
    "- --knn : 최근접 이웃을 활용한 콘텐츠 기반 필터링 모델의 학습 여부를 결정하는 인자입니다. --knn을 입력하는 경우 학습을 진행하며, word2vec 모델과 cbf_data, knn모델을 models 폴더 경로에 생성합니다.(이미 존재하는 경우에는 업데이트) --no-knn을 입력하면 해당 모델의 학습을 진행하지 않습니다.(입력하지 않았을 경우에는 학습 진행을 하도록 되어 있습니다.)\n",
    "- --vector_size : word2vec 학습에 생성하는 행렬 차원의 수를 결정하는 인자입니다.(default = 100)\n",
    "- --pretrained : 영화 장르 임베딩을 적용할 때 사용하는 gensim의 사전학습 모델을 결정하는 인자입니다. (default = 'glove-twitter-100')"
   ]
  },
  {
   "cell_type": "code",
   "execution_count": 3,
   "id": "be019fe2-ef34-45b0-b31b-aa009fbdf24d",
   "metadata": {
    "tags": []
   },
   "outputs": [
    {
     "name": "stdout",
     "output_type": "stream",
     "text": [
      "2023-06-28 07:53:59.530928: I tensorflow/tsl/cuda/cudart_stub.cc:28] Could not find cuda drivers on your machine, GPU will not be used.\n",
      "2023-06-28 07:53:59.574179: I tensorflow/tsl/cuda/cudart_stub.cc:28] Could not find cuda drivers on your machine, GPU will not be used.\n",
      "2023-06-28 07:53:59.574713: I tensorflow/core/platform/cpu_feature_guard.cc:182] This TensorFlow binary is optimized to use available CPU instructions in performance-critical operations.\n",
      "To enable the following instructions: AVX2 FMA, in other operations, rebuild TensorFlow with the appropriate compiler flags.\n",
      "2023-06-28 07:54:00.381440: W tensorflow/compiler/tf2tensorrt/utils/py_utils.cc:38] TF-TRT Warning: Could not find TensorRT\n",
      "Epoch 1/3\n",
      "1251/1251 [==============================] - 25s 19ms/step - loss: 5.7587 - val_loss: 0.9398\n",
      "Epoch 2/3\n",
      "1251/1251 [==============================] - 23s 18ms/step - loss: 0.8581 - val_loss: 0.8353\n",
      "Epoch 3/3\n",
      "1251/1251 [==============================] - 25s 20ms/step - loss: 0.7570 - val_loss: 0.7887\n",
      "---Saving model---\n",
      "Save Complete.\n"
     ]
    }
   ],
   "source": [
    "#CLI\n",
    "#mf모델만 3 epochs로 학습하라는 명령어(knn 모델은 학습하지 않음)\n",
    "#두가지 모델을 전무 학습시키고 싶다면 !python trian.py 명령어를 사용하시면 됩니다.\n",
    "!python train.py --no-knn -e 3"
   ]
  },
  {
   "cell_type": "markdown",
   "id": "9a567502-f546-4f67-91d2-3ac8a3cfba11",
   "metadata": {},
   "source": [
    "### 인기도 기반 추천 시스템 테스트\n",
    "베이스라인 모델의 인기도 기반 추천은 사용자들이 가장 많이 평점을 남긴 영화 순으로 추천하도록 설계되어 있습니다.</br>\n",
    "관련 코드는 models 폴더의 impersonal.py 코드에 작성되어 있습니다."
   ]
  },
  {
   "cell_type": "code",
   "execution_count": 1,
   "id": "ce1dae94-bc99-4e7f-9bf5-efaf929ec29e",
   "metadata": {
    "tags": []
   },
   "outputs": [
    {
     "data": {
      "text/plain": [
       "[2858, 260, 1196, 1210, 480, 2028, 589, 2571, 1270, 593]"
      ]
     },
     "execution_count": 1,
     "metadata": {},
     "output_type": "execute_result"
    }
   ],
   "source": [
    "from models.impersonal import popular\n",
    "popular(10)"
   ]
  },
  {
   "cell_type": "markdown",
   "id": "2dc7d5c0-1ae1-46a3-b90a-74dac0ae5699",
   "metadata": {},
   "source": [
    "### 협업 필터링 모델 테스트\n",
    "Matrix Factorization 기반 모델 코드의 경우 train.py를 통해 학습한 mf.h5 파일을 로드하여 예측을 진행합니다."
   ]
  },
  {
   "cell_type": "code",
   "execution_count": 10,
   "id": "e69e7450-f9ab-48e9-8c69-d807439ff616",
   "metadata": {
    "tags": []
   },
   "outputs": [],
   "source": [
    "from models.MF import MF\n",
    "\n",
    "mf = MF('./models/mf.h5')"
   ]
  },
  {
   "cell_type": "code",
   "execution_count": 41,
   "id": "93daed87-1a6b-4fa4-a9a5-fb389bfc2a83",
   "metadata": {
    "tags": []
   },
   "outputs": [
    {
     "data": {
      "text/plain": [
       "[527, 318, 1207, 1198, 50, 858, 1148, 260, 2324, 910]"
      ]
     },
     "execution_count": 41,
     "metadata": {},
     "output_type": "execute_result"
    }
   ],
   "source": [
    "userid = 1004\n",
    "mf.predict(userid)"
   ]
  },
  {
   "cell_type": "markdown",
   "id": "c2e6ecf3-c2a6-4573-bcd2-be1e9b971b2c",
   "metadata": {},
   "source": [
    "### 콘텐츠 기반 필터링 모델 테스트\n",
    "최근접 이웃 알고리즘을 활용한 콘텐츠 기반 필터링 모델의 경우 train.py를 통해 학습한 knn.joblib 파일을 로드하여 예측을 진행합니다."
   ]
  },
  {
   "cell_type": "code",
   "execution_count": 10,
   "id": "135ddc53-3b3a-48fd-bdb0-2905b8cc4b07",
   "metadata": {
    "tags": []
   },
   "outputs": [],
   "source": [
    "from models.KNN import KNN\n",
    "\n",
    "knn = KNN('models/knn.joblib')"
   ]
  },
  {
   "cell_type": "code",
   "execution_count": 11,
   "id": "5a21c72f-76b0-4e43-b9c7-b3d9056cbd3f",
   "metadata": {
    "tags": []
   },
   "outputs": [
    {
     "data": {
      "text/plain": [
       "array([1187, 1244, 1197,   69,  255, 1178, 1985, 1192,  667,  606])"
      ]
     },
     "execution_count": 11,
     "metadata": {},
     "output_type": "execute_result"
    }
   ],
   "source": [
    "USER_ID = 1\n",
    "TOP_NUM=10\n",
    "knn.predict(USER_ID, TOP_NUM)"
   ]
  },
  {
   "cell_type": "markdown",
   "id": "33810792",
   "metadata": {},
   "source": [
    "### LightFM"
   ]
  },
  {
   "cell_type": "markdown",
   "id": "8855edb3",
   "metadata": {},
   "source": [
    "#### pip install"
   ]
  },
  {
   "cell_type": "code",
   "execution_count": 5,
   "id": "088127a5",
   "metadata": {},
   "outputs": [
    {
     "name": "stdout",
     "output_type": "stream",
     "text": [
      "Collecting en-core-web-sm@ https://github.com/explosion/spacy-models/releases/download/en_core_web_sm-3.5.0/en_core_web_sm-3.5.0-py3-none-any.whl#sha256=0964370218b7e1672a30ac50d72cdc6b16f7c867496f1d60925691188f4d2510 (from -r ../requirements.txt (line 6))\n",
      "  Downloading https://github.com/explosion/spacy-models/releases/download/en_core_web_sm-3.5.0/en_core_web_sm-3.5.0-py3-none-any.whl (12.8 MB)\n",
      "\u001b[2K     \u001b[90m━━━━━━━━━━━━━━━━━━━━━━━━━━━━━━━━━━━━━━━━\u001b[0m \u001b[32m12.8/12.8 MB\u001b[0m \u001b[31m2.6 MB/s\u001b[0m eta \u001b[36m0:00:00\u001b[0m00:01\u001b[0m00:01\u001b[0m\n",
      "\u001b[?25hCollecting pandas==2.0.2 (from -r ../requirements.txt (line 1))\n",
      "  Obtaining dependency information for pandas==2.0.2 from https://files.pythonhosted.org/packages/3f/9c/81783576b66ed29c65962d1ec0936e7912c0b6b7917e8f7722a79a363430/pandas-2.0.2-cp39-cp39-macosx_10_9_x86_64.whl.metadata\n",
      "  Using cached pandas-2.0.2-cp39-cp39-macosx_10_9_x86_64.whl.metadata (18 kB)\n",
      "Collecting tensorflow==2.13.0 (from -r ../requirements.txt (line 2))\n",
      "  Obtaining dependency information for tensorflow==2.13.0 from https://files.pythonhosted.org/packages/1a/c1/9c14df0625836af8ba6628585c6d3c3bf8f1e1101cafa2435eb28a776455/tensorflow-2.13.0-cp39-cp39-macosx_10_15_x86_64.whl.metadata\n",
      "  Using cached tensorflow-2.13.0-cp39-cp39-macosx_10_15_x86_64.whl.metadata (3.2 kB)\n",
      "Collecting scikit-learn==1.2.2 (from -r ../requirements.txt (line 3))\n",
      "  Using cached scikit_learn-1.2.2-cp39-cp39-macosx_10_9_x86_64.whl (9.1 MB)\n",
      "Collecting gensim==4.3.1 (from -r ../requirements.txt (line 4))\n",
      "  Using cached gensim-4.3.1-cp39-cp39-macosx_10_9_x86_64.whl (24.0 MB)\n",
      "Collecting spacy==3.5.3 (from -r ../requirements.txt (line 5))\n",
      "  Obtaining dependency information for spacy==3.5.3 from https://files.pythonhosted.org/packages/5c/48/eca527569df63cbf90695034fd86844cdb6a94d7398d8f5200afc8a984ab/spacy-3.5.3-cp39-cp39-macosx_10_9_x86_64.whl.metadata\n",
      "  Using cached spacy-3.5.3-cp39-cp39-macosx_10_9_x86_64.whl.metadata (25 kB)\n",
      "Collecting lightfm==1.17 (from -r ../requirements.txt (line 7))\n",
      "  Using cached lightfm-1.17-cp39-cp39-macosx_10_9_x86_64.whl\n",
      "Requirement already satisfied: python-dateutil>=2.8.2 in /Users/leekawo/anaconda3/envs/pj2_test/lib/python3.9/site-packages (from pandas==2.0.2->-r ../requirements.txt (line 1)) (2.8.2)\n",
      "Collecting pytz>=2020.1 (from pandas==2.0.2->-r ../requirements.txt (line 1))\n",
      "  Using cached pytz-2023.3-py2.py3-none-any.whl (502 kB)\n",
      "Collecting tzdata>=2022.1 (from pandas==2.0.2->-r ../requirements.txt (line 1))\n",
      "  Using cached tzdata-2023.3-py2.py3-none-any.whl (341 kB)\n",
      "Collecting numpy>=1.20.3 (from pandas==2.0.2->-r ../requirements.txt (line 1))\n",
      "  Obtaining dependency information for numpy>=1.20.3 from https://files.pythonhosted.org/packages/8b/d9/22c304cd123e0a1b7d89213e50ed6ec4b22f07f1117d64d28f81c08be428/numpy-1.25.2-cp39-cp39-macosx_10_9_x86_64.whl.metadata\n",
      "  Using cached numpy-1.25.2-cp39-cp39-macosx_10_9_x86_64.whl.metadata (5.6 kB)\n",
      "Collecting absl-py>=1.0.0 (from tensorflow==2.13.0->-r ../requirements.txt (line 2))\n",
      "  Using cached absl_py-1.4.0-py3-none-any.whl (126 kB)\n",
      "Collecting astunparse>=1.6.0 (from tensorflow==2.13.0->-r ../requirements.txt (line 2))\n",
      "  Using cached astunparse-1.6.3-py2.py3-none-any.whl (12 kB)\n",
      "Collecting flatbuffers>=23.1.21 (from tensorflow==2.13.0->-r ../requirements.txt (line 2))\n",
      "  Obtaining dependency information for flatbuffers>=23.1.21 from https://files.pythonhosted.org/packages/6f/12/d5c79ee252793ffe845d58a913197bfa02ae9a0b5c9bc3dc4b58d477b9e7/flatbuffers-23.5.26-py2.py3-none-any.whl.metadata\n",
      "  Using cached flatbuffers-23.5.26-py2.py3-none-any.whl.metadata (850 bytes)\n",
      "Collecting gast<=0.4.0,>=0.2.1 (from tensorflow==2.13.0->-r ../requirements.txt (line 2))\n",
      "  Using cached gast-0.4.0-py3-none-any.whl (9.8 kB)\n",
      "Collecting google-pasta>=0.1.1 (from tensorflow==2.13.0->-r ../requirements.txt (line 2))\n",
      "  Using cached google_pasta-0.2.0-py3-none-any.whl (57 kB)\n",
      "Collecting h5py>=2.9.0 (from tensorflow==2.13.0->-r ../requirements.txt (line 2))\n",
      "  Obtaining dependency information for h5py>=2.9.0 from https://files.pythonhosted.org/packages/4a/06/14ec12a6ffbee069198dca25792a997865ee1c727a5c4aa82472d3223f74/h5py-3.9.0-cp39-cp39-macosx_10_9_x86_64.whl.metadata\n",
      "  Using cached h5py-3.9.0-cp39-cp39-macosx_10_9_x86_64.whl.metadata (2.5 kB)\n",
      "Collecting libclang>=13.0.0 (from tensorflow==2.13.0->-r ../requirements.txt (line 2))\n",
      "  Obtaining dependency information for libclang>=13.0.0 from https://files.pythonhosted.org/packages/c9/ea/fe2a69cc6cfebf7c7ee8a6357566fc1cbb91632bde5869b669a396accb5f/libclang-16.0.6-py2.py3-none-macosx_10_9_x86_64.whl.metadata\n",
      "  Using cached libclang-16.0.6-py2.py3-none-macosx_10_9_x86_64.whl.metadata (5.2 kB)\n",
      "Collecting numpy>=1.20.3 (from pandas==2.0.2->-r ../requirements.txt (line 1))\n",
      "  Downloading numpy-1.24.3-cp39-cp39-macosx_10_9_x86_64.whl (19.8 MB)\n",
      "\u001b[2K     \u001b[90m━━━━━━━━━━━━━━━━━━━━━━━━━━━━━━━━━━━━━━━━\u001b[0m \u001b[32m19.8/19.8 MB\u001b[0m \u001b[31m2.6 MB/s\u001b[0m eta \u001b[36m0:00:00\u001b[0m00:01\u001b[0m00:01\u001b[0m\n",
      "\u001b[?25hCollecting opt-einsum>=2.3.2 (from tensorflow==2.13.0->-r ../requirements.txt (line 2))\n",
      "  Using cached opt_einsum-3.3.0-py3-none-any.whl (65 kB)\n",
      "Requirement already satisfied: packaging in /Users/leekawo/anaconda3/envs/pj2_test/lib/python3.9/site-packages (from tensorflow==2.13.0->-r ../requirements.txt (line 2)) (23.1)\n",
      "Collecting protobuf!=4.21.0,!=4.21.1,!=4.21.2,!=4.21.3,!=4.21.4,!=4.21.5,<5.0.0dev,>=3.20.3 (from tensorflow==2.13.0->-r ../requirements.txt (line 2))\n",
      "  Obtaining dependency information for protobuf!=4.21.0,!=4.21.1,!=4.21.2,!=4.21.3,!=4.21.4,!=4.21.5,<5.0.0dev,>=3.20.3 from https://files.pythonhosted.org/packages/98/d6/6e2f5047b9b66a57654368121dde2dc86b5ea5d7bb887e620587389dab5e/protobuf-4.24.1-cp37-abi3-macosx_10_9_universal2.whl.metadata\n",
      "  Using cached protobuf-4.24.1-cp37-abi3-macosx_10_9_universal2.whl.metadata (540 bytes)\n",
      "Requirement already satisfied: setuptools in /Users/leekawo/anaconda3/envs/pj2_test/lib/python3.9/site-packages (from tensorflow==2.13.0->-r ../requirements.txt (line 2)) (68.0.0)\n",
      "Requirement already satisfied: six>=1.12.0 in /Users/leekawo/anaconda3/envs/pj2_test/lib/python3.9/site-packages (from tensorflow==2.13.0->-r ../requirements.txt (line 2)) (1.16.0)\n",
      "Collecting termcolor>=1.1.0 (from tensorflow==2.13.0->-r ../requirements.txt (line 2))\n",
      "  Using cached termcolor-2.3.0-py3-none-any.whl (6.9 kB)\n",
      "Collecting typing-extensions<4.6.0,>=3.6.6 (from tensorflow==2.13.0->-r ../requirements.txt (line 2))\n",
      "  Using cached typing_extensions-4.5.0-py3-none-any.whl (27 kB)\n",
      "Collecting wrapt>=1.11.0 (from tensorflow==2.13.0->-r ../requirements.txt (line 2))\n",
      "  Downloading wrapt-1.15.0-cp39-cp39-macosx_10_9_x86_64.whl (35 kB)\n",
      "Collecting grpcio<2.0,>=1.24.3 (from tensorflow==2.13.0->-r ../requirements.txt (line 2))\n",
      "  Obtaining dependency information for grpcio<2.0,>=1.24.3 from https://files.pythonhosted.org/packages/65/a3/97704b6daa6042d1cf985f499695656ee1a2508f95921e6ba1aab63c902c/grpcio-1.57.0-cp39-cp39-macosx_10_10_universal2.whl.metadata\n",
      "  Using cached grpcio-1.57.0-cp39-cp39-macosx_10_10_universal2.whl.metadata (4.0 kB)\n",
      "Collecting tensorboard<2.14,>=2.13 (from tensorflow==2.13.0->-r ../requirements.txt (line 2))\n",
      "  Using cached tensorboard-2.13.0-py3-none-any.whl (5.6 MB)\n",
      "Collecting tensorflow-estimator<2.14,>=2.13.0 (from tensorflow==2.13.0->-r ../requirements.txt (line 2))\n",
      "  Obtaining dependency information for tensorflow-estimator<2.14,>=2.13.0 from https://files.pythonhosted.org/packages/72/5c/c318268d96791c6222ad7df1651bbd1b2409139afeb6f468c0f327177016/tensorflow_estimator-2.13.0-py2.py3-none-any.whl.metadata\n",
      "  Using cached tensorflow_estimator-2.13.0-py2.py3-none-any.whl.metadata (1.3 kB)\n",
      "Collecting keras<2.14,>=2.13.1 (from tensorflow==2.13.0->-r ../requirements.txt (line 2))\n",
      "  Obtaining dependency information for keras<2.14,>=2.13.1 from https://files.pythonhosted.org/packages/2e/f3/19da7511b45e80216cbbd9467137b2d28919c58ba1ccb971435cb631e470/keras-2.13.1-py3-none-any.whl.metadata\n",
      "  Using cached keras-2.13.1-py3-none-any.whl.metadata (2.4 kB)\n",
      "Collecting tensorflow-io-gcs-filesystem>=0.23.1 (from tensorflow==2.13.0->-r ../requirements.txt (line 2))\n",
      "  Obtaining dependency information for tensorflow-io-gcs-filesystem>=0.23.1 from https://files.pythonhosted.org/packages/57/76/91813ffee34274d6f08cfbe91728d7a4a046ff439ca72f2d1cadd0d41075/tensorflow_io_gcs_filesystem-0.33.0-cp39-cp39-macosx_10_14_x86_64.whl.metadata\n",
      "  Using cached tensorflow_io_gcs_filesystem-0.33.0-cp39-cp39-macosx_10_14_x86_64.whl.metadata (14 kB)\n",
      "Collecting scipy>=1.3.2 (from scikit-learn==1.2.2->-r ../requirements.txt (line 3))\n",
      "  Obtaining dependency information for scipy>=1.3.2 from https://files.pythonhosted.org/packages/03/c3/5162f7d23a12c62cf0630f6cce20932f166fca7cb5513ed9af56b5618ba6/scipy-1.11.2-cp39-cp39-macosx_10_9_x86_64.whl.metadata\n",
      "  Using cached scipy-1.11.2-cp39-cp39-macosx_10_9_x86_64.whl.metadata (54 kB)\n",
      "Collecting joblib>=1.1.1 (from scikit-learn==1.2.2->-r ../requirements.txt (line 3))\n",
      "  Obtaining dependency information for joblib>=1.1.1 from https://files.pythonhosted.org/packages/10/40/d551139c85db202f1f384ba8bcf96aca2f329440a844f924c8a0040b6d02/joblib-1.3.2-py3-none-any.whl.metadata\n",
      "  Using cached joblib-1.3.2-py3-none-any.whl.metadata (5.4 kB)\n",
      "Collecting threadpoolctl>=2.0.0 (from scikit-learn==1.2.2->-r ../requirements.txt (line 3))\n",
      "  Obtaining dependency information for threadpoolctl>=2.0.0 from https://files.pythonhosted.org/packages/81/12/fd4dea011af9d69e1cad05c75f3f7202cdcbeac9b712eea58ca779a72865/threadpoolctl-3.2.0-py3-none-any.whl.metadata\n",
      "  Using cached threadpoolctl-3.2.0-py3-none-any.whl.metadata (10.0 kB)\n",
      "Collecting smart-open>=1.8.1 (from gensim==4.3.1->-r ../requirements.txt (line 4))\n",
      "  Using cached smart_open-6.3.0-py3-none-any.whl (56 kB)\n",
      "Collecting spacy-legacy<3.1.0,>=3.0.11 (from spacy==3.5.3->-r ../requirements.txt (line 5))\n",
      "  Using cached spacy_legacy-3.0.12-py2.py3-none-any.whl (29 kB)\n",
      "Collecting spacy-loggers<2.0.0,>=1.0.0 (from spacy==3.5.3->-r ../requirements.txt (line 5))\n",
      "  Using cached spacy_loggers-1.0.4-py3-none-any.whl (11 kB)\n",
      "Collecting murmurhash<1.1.0,>=0.28.0 (from spacy==3.5.3->-r ../requirements.txt (line 5))\n",
      "  Using cached murmurhash-1.0.9-cp39-cp39-macosx_10_9_x86_64.whl (18 kB)\n",
      "Collecting cymem<2.1.0,>=2.0.2 (from spacy==3.5.3->-r ../requirements.txt (line 5))\n",
      "  Using cached cymem-2.0.7-cp39-cp39-macosx_10_9_x86_64.whl (32 kB)\n",
      "Collecting preshed<3.1.0,>=3.0.2 (from spacy==3.5.3->-r ../requirements.txt (line 5))\n",
      "  Using cached preshed-3.0.8-cp39-cp39-macosx_10_9_x86_64.whl (107 kB)\n",
      "Collecting thinc<8.2.0,>=8.1.8 (from spacy==3.5.3->-r ../requirements.txt (line 5))\n",
      "  Obtaining dependency information for thinc<8.2.0,>=8.1.8 from https://files.pythonhosted.org/packages/e0/9f/0b91ac826f5feb8090f32e683c4ecfedc1f5738109cec983ab4140a4d5ba/thinc-8.1.12-cp39-cp39-macosx_10_9_x86_64.whl.metadata\n",
      "  Using cached thinc-8.1.12-cp39-cp39-macosx_10_9_x86_64.whl.metadata (15 kB)\n",
      "Collecting wasabi<1.2.0,>=0.9.1 (from spacy==3.5.3->-r ../requirements.txt (line 5))\n",
      "  Obtaining dependency information for wasabi<1.2.0,>=0.9.1 from https://files.pythonhosted.org/packages/8f/69/26cbf0bad11703241cb84d5324d868097f7a8faf2f1888354dac8883f3fc/wasabi-1.1.2-py3-none-any.whl.metadata\n",
      "  Using cached wasabi-1.1.2-py3-none-any.whl.metadata (28 kB)\n",
      "Collecting srsly<3.0.0,>=2.4.3 (from spacy==3.5.3->-r ../requirements.txt (line 5))\n",
      "  Obtaining dependency information for srsly<3.0.0,>=2.4.3 from https://files.pythonhosted.org/packages/84/67/c50bd3df4d7dcf0fb748b8aacd1aae21f0ae356678fb09a8b5354f7052c6/srsly-2.4.7-cp39-cp39-macosx_10_9_x86_64.whl.metadata\n",
      "  Using cached srsly-2.4.7-cp39-cp39-macosx_10_9_x86_64.whl.metadata (20 kB)\n",
      "Collecting catalogue<2.1.0,>=2.0.6 (from spacy==3.5.3->-r ../requirements.txt (line 5))\n",
      "  Obtaining dependency information for catalogue<2.1.0,>=2.0.6 from https://files.pythonhosted.org/packages/45/8f/5b73efc14e0373d9bb0de6ce1ab04a8f77420dc473f1f3ef270caf085cff/catalogue-2.0.9-py3-none-any.whl.metadata\n",
      "  Using cached catalogue-2.0.9-py3-none-any.whl.metadata (14 kB)\n",
      "Collecting typer<0.8.0,>=0.3.0 (from spacy==3.5.3->-r ../requirements.txt (line 5))\n",
      "  Using cached typer-0.7.0-py3-none-any.whl (38 kB)\n",
      "Collecting pathy>=0.10.0 (from spacy==3.5.3->-r ../requirements.txt (line 5))\n",
      "  Obtaining dependency information for pathy>=0.10.0 from https://files.pythonhosted.org/packages/b5/c3/04a002ace658133f5ac48d30258ed9ceab720595dc1ac36df02fe52018af/pathy-0.10.2-py3-none-any.whl.metadata\n",
      "  Using cached pathy-0.10.2-py3-none-any.whl.metadata (16 kB)\n",
      "Collecting tqdm<5.0.0,>=4.38.0 (from spacy==3.5.3->-r ../requirements.txt (line 5))\n",
      "  Obtaining dependency information for tqdm<5.0.0,>=4.38.0 from https://files.pythonhosted.org/packages/00/e5/f12a80907d0884e6dff9c16d0c0114d81b8cd07dc3ae54c5e962cc83037e/tqdm-4.66.1-py3-none-any.whl.metadata\n",
      "  Using cached tqdm-4.66.1-py3-none-any.whl.metadata (57 kB)\n",
      "Collecting requests<3.0.0,>=2.13.0 (from spacy==3.5.3->-r ../requirements.txt (line 5))\n",
      "  Obtaining dependency information for requests<3.0.0,>=2.13.0 from https://files.pythonhosted.org/packages/70/8e/0e2d847013cb52cd35b38c009bb167a1a26b2ce6cd6965bf26b47bc0bf44/requests-2.31.0-py3-none-any.whl.metadata\n",
      "  Using cached requests-2.31.0-py3-none-any.whl.metadata (4.6 kB)\n",
      "Collecting pydantic!=1.8,!=1.8.1,<1.11.0,>=1.7.4 (from spacy==3.5.3->-r ../requirements.txt (line 5))\n",
      "  Obtaining dependency information for pydantic!=1.8,!=1.8.1,<1.11.0,>=1.7.4 from https://files.pythonhosted.org/packages/78/03/5b35c8fb792c3ea0408ac82257952b11ca2507ca46c21826b180514293b3/pydantic-1.10.12-cp39-cp39-macosx_10_9_x86_64.whl.metadata\n",
      "  Using cached pydantic-1.10.12-cp39-cp39-macosx_10_9_x86_64.whl.metadata (149 kB)\n",
      "Collecting jinja2 (from spacy==3.5.3->-r ../requirements.txt (line 5))\n",
      "  Using cached Jinja2-3.1.2-py3-none-any.whl (133 kB)\n",
      "Collecting langcodes<4.0.0,>=3.2.0 (from spacy==3.5.3->-r ../requirements.txt (line 5))\n",
      "  Using cached langcodes-3.3.0-py3-none-any.whl (181 kB)\n",
      "Requirement already satisfied: wheel<1.0,>=0.23.0 in /Users/leekawo/anaconda3/envs/pj2_test/lib/python3.9/site-packages (from astunparse>=1.6.0->tensorflow==2.13.0->-r ../requirements.txt (line 2)) (0.38.4)\n",
      "Collecting charset-normalizer<4,>=2 (from requests<3.0.0,>=2.13.0->spacy==3.5.3->-r ../requirements.txt (line 5))\n",
      "  Obtaining dependency information for charset-normalizer<4,>=2 from https://files.pythonhosted.org/packages/7b/c6/7f75892d87d7afcf8ed909f3e74de1bc61abd9d77cd9aab1f449430856c5/charset_normalizer-3.2.0-cp39-cp39-macosx_10_9_x86_64.whl.metadata\n",
      "  Using cached charset_normalizer-3.2.0-cp39-cp39-macosx_10_9_x86_64.whl.metadata (31 kB)\n",
      "Collecting idna<4,>=2.5 (from requests<3.0.0,>=2.13.0->spacy==3.5.3->-r ../requirements.txt (line 5))\n",
      "  Using cached idna-3.4-py3-none-any.whl (61 kB)\n",
      "Collecting urllib3<3,>=1.21.1 (from requests<3.0.0,>=2.13.0->spacy==3.5.3->-r ../requirements.txt (line 5))\n",
      "  Obtaining dependency information for urllib3<3,>=1.21.1 from https://files.pythonhosted.org/packages/9b/81/62fd61001fa4b9d0df6e31d47ff49cfa9de4af03adecf339c7bc30656b37/urllib3-2.0.4-py3-none-any.whl.metadata\n",
      "  Using cached urllib3-2.0.4-py3-none-any.whl.metadata (6.6 kB)\n",
      "Collecting certifi>=2017.4.17 (from requests<3.0.0,>=2.13.0->spacy==3.5.3->-r ../requirements.txt (line 5))\n",
      "  Obtaining dependency information for certifi>=2017.4.17 from https://files.pythonhosted.org/packages/4c/dd/2234eab22353ffc7d94e8d13177aaa050113286e93e7b40eae01fbf7c3d9/certifi-2023.7.22-py3-none-any.whl.metadata\n",
      "  Using cached certifi-2023.7.22-py3-none-any.whl.metadata (2.2 kB)\n",
      "Collecting google-auth<3,>=1.6.3 (from tensorboard<2.14,>=2.13->tensorflow==2.13.0->-r ../requirements.txt (line 2))\n",
      "  Obtaining dependency information for google-auth<3,>=1.6.3 from https://files.pythonhosted.org/packages/9c/8d/bff87fc722553a5691d8514da5523c23547f3894189ba03b57592e37bdc2/google_auth-2.22.0-py2.py3-none-any.whl.metadata\n",
      "  Using cached google_auth-2.22.0-py2.py3-none-any.whl.metadata (4.2 kB)\n",
      "Collecting google-auth-oauthlib<1.1,>=0.5 (from tensorboard<2.14,>=2.13->tensorflow==2.13.0->-r ../requirements.txt (line 2))\n",
      "  Using cached google_auth_oauthlib-1.0.0-py2.py3-none-any.whl (18 kB)\n",
      "Collecting markdown>=2.6.8 (from tensorboard<2.14,>=2.13->tensorflow==2.13.0->-r ../requirements.txt (line 2))\n",
      "  Obtaining dependency information for markdown>=2.6.8 from https://files.pythonhosted.org/packages/1a/b5/228c1cdcfe138f1a8e01ab1b54284c8b83735476cb22b6ba251656ed13ad/Markdown-3.4.4-py3-none-any.whl.metadata\n",
      "  Using cached Markdown-3.4.4-py3-none-any.whl.metadata (6.9 kB)\n",
      "Collecting tensorboard-data-server<0.8.0,>=0.7.0 (from tensorboard<2.14,>=2.13->tensorflow==2.13.0->-r ../requirements.txt (line 2))\n",
      "  Obtaining dependency information for tensorboard-data-server<0.8.0,>=0.7.0 from https://files.pythonhosted.org/packages/37/52/da3f777c56fdcf3a484493ce58403c1af709709cd05dab9894980fc8d962/tensorboard_data_server-0.7.1-py3-none-macosx_10_9_x86_64.whl.metadata\n",
      "  Using cached tensorboard_data_server-0.7.1-py3-none-macosx_10_9_x86_64.whl.metadata (1.1 kB)\n",
      "Collecting werkzeug>=1.0.1 (from tensorboard<2.14,>=2.13->tensorflow==2.13.0->-r ../requirements.txt (line 2))\n",
      "  Obtaining dependency information for werkzeug>=1.0.1 from https://files.pythonhosted.org/packages/9b/59/a7c32e3d8d0e546a206e0552a2c04444544f15c1da4a01df8938d20c6ffc/werkzeug-2.3.7-py3-none-any.whl.metadata\n",
      "  Using cached werkzeug-2.3.7-py3-none-any.whl.metadata (4.1 kB)\n",
      "Collecting blis<0.8.0,>=0.7.8 (from thinc<8.2.0,>=8.1.8->spacy==3.5.3->-r ../requirements.txt (line 5))\n",
      "  Obtaining dependency information for blis<0.8.0,>=0.7.8 from https://files.pythonhosted.org/packages/b9/48/82c8c25fd586e4b2b4c92438a6a542feb7c1b5da0ffec23d723d128ed661/blis-0.7.10-cp39-cp39-macosx_10_9_x86_64.whl.metadata\n",
      "  Using cached blis-0.7.10-cp39-cp39-macosx_10_9_x86_64.whl.metadata (7.4 kB)\n",
      "Collecting confection<1.0.0,>=0.0.1 (from thinc<8.2.0,>=8.1.8->spacy==3.5.3->-r ../requirements.txt (line 5))\n",
      "  Obtaining dependency information for confection<1.0.0,>=0.0.1 from https://files.pythonhosted.org/packages/05/5e/1a56e81e3335ce18f6742539edd2f6ea98bbf477fefc9a4dc5c0694bace4/confection-0.1.1-py3-none-any.whl.metadata\n",
      "  Using cached confection-0.1.1-py3-none-any.whl.metadata (19 kB)\n",
      "Collecting click<9.0.0,>=7.1.1 (from typer<0.8.0,>=0.3.0->spacy==3.5.3->-r ../requirements.txt (line 5))\n",
      "  Obtaining dependency information for click<9.0.0,>=7.1.1 from https://files.pythonhosted.org/packages/00/2e/d53fa4befbf2cfa713304affc7ca780ce4fc1fd8710527771b58311a3229/click-8.1.7-py3-none-any.whl.metadata\n",
      "  Using cached click-8.1.7-py3-none-any.whl.metadata (3.0 kB)\n",
      "Collecting MarkupSafe>=2.0 (from jinja2->spacy==3.5.3->-r ../requirements.txt (line 5))\n",
      "  Obtaining dependency information for MarkupSafe>=2.0 from https://files.pythonhosted.org/packages/62/9b/4908a57acf39d8811836bc6776b309c2e07d63791485589acf0b6d7bc0c6/MarkupSafe-2.1.3-cp39-cp39-macosx_10_9_x86_64.whl.metadata\n",
      "  Using cached MarkupSafe-2.1.3-cp39-cp39-macosx_10_9_x86_64.whl.metadata (3.0 kB)\n",
      "Collecting cachetools<6.0,>=2.0.0 (from google-auth<3,>=1.6.3->tensorboard<2.14,>=2.13->tensorflow==2.13.0->-r ../requirements.txt (line 2))\n",
      "  Obtaining dependency information for cachetools<6.0,>=2.0.0 from https://files.pythonhosted.org/packages/a9/c9/c8a7710f2cedcb1db9224fdd4d8307c9e48cbddc46c18b515fefc0f1abbe/cachetools-5.3.1-py3-none-any.whl.metadata\n",
      "  Using cached cachetools-5.3.1-py3-none-any.whl.metadata (5.2 kB)\n",
      "Collecting pyasn1-modules>=0.2.1 (from google-auth<3,>=1.6.3->tensorboard<2.14,>=2.13->tensorflow==2.13.0->-r ../requirements.txt (line 2))\n",
      "  Using cached pyasn1_modules-0.3.0-py2.py3-none-any.whl (181 kB)\n",
      "Collecting rsa<5,>=3.1.4 (from google-auth<3,>=1.6.3->tensorboard<2.14,>=2.13->tensorflow==2.13.0->-r ../requirements.txt (line 2))\n",
      "  Using cached rsa-4.9-py3-none-any.whl (34 kB)\n",
      "Collecting urllib3<3,>=1.21.1 (from requests<3.0.0,>=2.13.0->spacy==3.5.3->-r ../requirements.txt (line 5))\n",
      "  Obtaining dependency information for urllib3<3,>=1.21.1 from https://files.pythonhosted.org/packages/c5/05/c214b32d21c0b465506f95c4f28ccbcba15022e000b043b72b3df7728471/urllib3-1.26.16-py2.py3-none-any.whl.metadata\n",
      "  Using cached urllib3-1.26.16-py2.py3-none-any.whl.metadata (48 kB)\n",
      "Collecting requests-oauthlib>=0.7.0 (from google-auth-oauthlib<1.1,>=0.5->tensorboard<2.14,>=2.13->tensorflow==2.13.0->-r ../requirements.txt (line 2))\n",
      "  Using cached requests_oauthlib-1.3.1-py2.py3-none-any.whl (23 kB)\n",
      "Requirement already satisfied: importlib-metadata>=4.4 in /Users/leekawo/anaconda3/envs/pj2_test/lib/python3.9/site-packages (from markdown>=2.6.8->tensorboard<2.14,>=2.13->tensorflow==2.13.0->-r ../requirements.txt (line 2)) (6.8.0)\n",
      "Requirement already satisfied: zipp>=0.5 in /Users/leekawo/anaconda3/envs/pj2_test/lib/python3.9/site-packages (from importlib-metadata>=4.4->markdown>=2.6.8->tensorboard<2.14,>=2.13->tensorflow==2.13.0->-r ../requirements.txt (line 2)) (3.16.2)\n",
      "Collecting pyasn1<0.6.0,>=0.4.6 (from pyasn1-modules>=0.2.1->google-auth<3,>=1.6.3->tensorboard<2.14,>=2.13->tensorflow==2.13.0->-r ../requirements.txt (line 2))\n",
      "  Using cached pyasn1-0.5.0-py2.py3-none-any.whl (83 kB)\n",
      "Collecting oauthlib>=3.0.0 (from requests-oauthlib>=0.7.0->google-auth-oauthlib<1.1,>=0.5->tensorboard<2.14,>=2.13->tensorflow==2.13.0->-r ../requirements.txt (line 2))\n",
      "  Using cached oauthlib-3.2.2-py3-none-any.whl (151 kB)\n",
      "Using cached pandas-2.0.2-cp39-cp39-macosx_10_9_x86_64.whl (11.8 MB)\n",
      "Downloading tensorflow-2.13.0-cp39-cp39-macosx_10_15_x86_64.whl (216.2 MB)\n",
      "\u001b[2K   \u001b[90m━━━━━━━━━━━━━━━━━━━━━━━━━━━━━━━━━━━━━━━\u001b[0m \u001b[32m216.2/216.2 MB\u001b[0m \u001b[31m925.8 kB/s\u001b[0m eta \u001b[36m0:00:00\u001b[0m0:01\u001b[0m00:03\u001b[0mm\n",
      "\u001b[?25hUsing cached spacy-3.5.3-cp39-cp39-macosx_10_9_x86_64.whl (6.9 MB)\n",
      "Using cached catalogue-2.0.9-py3-none-any.whl (17 kB)\n",
      "Using cached flatbuffers-23.5.26-py2.py3-none-any.whl (26 kB)\n",
      "Using cached grpcio-1.57.0-cp39-cp39-macosx_10_10_universal2.whl (9.1 MB)\n",
      "Using cached h5py-3.9.0-cp39-cp39-macosx_10_9_x86_64.whl (3.2 MB)\n",
      "Using cached joblib-1.3.2-py3-none-any.whl (302 kB)\n",
      "Using cached keras-2.13.1-py3-none-any.whl (1.7 MB)\n",
      "Using cached libclang-16.0.6-py2.py3-none-macosx_10_9_x86_64.whl (24.5 MB)\n",
      "Using cached pathy-0.10.2-py3-none-any.whl (48 kB)\n",
      "Using cached protobuf-4.24.1-cp37-abi3-macosx_10_9_universal2.whl (409 kB)\n",
      "Using cached pydantic-1.10.12-cp39-cp39-macosx_10_9_x86_64.whl (2.9 MB)\n",
      "Using cached requests-2.31.0-py3-none-any.whl (62 kB)\n",
      "Using cached scipy-1.11.2-cp39-cp39-macosx_10_9_x86_64.whl (37.2 MB)\n",
      "Using cached srsly-2.4.7-cp39-cp39-macosx_10_9_x86_64.whl (492 kB)\n",
      "Using cached tensorflow_estimator-2.13.0-py2.py3-none-any.whl (440 kB)\n",
      "Using cached tensorflow_io_gcs_filesystem-0.33.0-cp39-cp39-macosx_10_14_x86_64.whl (1.7 MB)\n",
      "Using cached thinc-8.1.12-cp39-cp39-macosx_10_9_x86_64.whl (875 kB)\n",
      "Using cached threadpoolctl-3.2.0-py3-none-any.whl (15 kB)\n",
      "Using cached tqdm-4.66.1-py3-none-any.whl (78 kB)\n",
      "Using cached wasabi-1.1.2-py3-none-any.whl (27 kB)\n",
      "Using cached blis-0.7.10-cp39-cp39-macosx_10_9_x86_64.whl (6.1 MB)\n",
      "Using cached certifi-2023.7.22-py3-none-any.whl (158 kB)\n",
      "Using cached charset_normalizer-3.2.0-cp39-cp39-macosx_10_9_x86_64.whl (126 kB)\n",
      "Using cached click-8.1.7-py3-none-any.whl (97 kB)\n",
      "Using cached confection-0.1.1-py3-none-any.whl (34 kB)\n",
      "Using cached google_auth-2.22.0-py2.py3-none-any.whl (181 kB)\n",
      "Using cached Markdown-3.4.4-py3-none-any.whl (94 kB)\n",
      "Using cached MarkupSafe-2.1.3-cp39-cp39-macosx_10_9_x86_64.whl (13 kB)\n",
      "Using cached tensorboard_data_server-0.7.1-py3-none-macosx_10_9_x86_64.whl (4.8 MB)\n",
      "Using cached urllib3-1.26.16-py2.py3-none-any.whl (143 kB)\n",
      "Using cached werkzeug-2.3.7-py3-none-any.whl (242 kB)\n",
      "Using cached cachetools-5.3.1-py3-none-any.whl (9.3 kB)\n",
      "Installing collected packages: pytz, libclang, flatbuffers, cymem, wrapt, wasabi, urllib3, tzdata, typing-extensions, tqdm, threadpoolctl, termcolor, tensorflow-io-gcs-filesystem, tensorflow-estimator, tensorboard-data-server, spacy-loggers, spacy-legacy, smart-open, pyasn1, protobuf, oauthlib, numpy, murmurhash, MarkupSafe, langcodes, keras, joblib, idna, grpcio, google-pasta, gast, click, charset-normalizer, certifi, catalogue, cachetools, astunparse, absl-py, werkzeug, typer, srsly, scipy, rsa, requests, pydantic, pyasn1-modules, preshed, pandas, opt-einsum, markdown, jinja2, h5py, blis, scikit-learn, requests-oauthlib, pathy, google-auth, gensim, confection, thinc, lightfm, google-auth-oauthlib, tensorboard, spacy, tensorflow, en-core-web-sm\n",
      "  Attempting uninstall: typing-extensions\n",
      "    Found existing installation: typing_extensions 4.7.1\n",
      "    Uninstalling typing_extensions-4.7.1:\n",
      "      Successfully uninstalled typing_extensions-4.7.1\n",
      "Successfully installed MarkupSafe-2.1.3 absl-py-1.4.0 astunparse-1.6.3 blis-0.7.10 cachetools-5.3.1 catalogue-2.0.9 certifi-2023.7.22 charset-normalizer-3.2.0 click-8.1.7 confection-0.1.1 cymem-2.0.7 en-core-web-sm-3.5.0 flatbuffers-23.5.26 gast-0.4.0 gensim-4.3.1 google-auth-2.22.0 google-auth-oauthlib-1.0.0 google-pasta-0.2.0 grpcio-1.57.0 h5py-3.9.0 idna-3.4 jinja2-3.1.2 joblib-1.3.2 keras-2.13.1 langcodes-3.3.0 libclang-16.0.6 lightfm-1.17 markdown-3.4.4 murmurhash-1.0.9 numpy-1.24.3 oauthlib-3.2.2 opt-einsum-3.3.0 pandas-2.0.2 pathy-0.10.2 preshed-3.0.8 protobuf-4.24.1 pyasn1-0.5.0 pyasn1-modules-0.3.0 pydantic-1.10.12 pytz-2023.3 requests-2.31.0 requests-oauthlib-1.3.1 rsa-4.9 scikit-learn-1.2.2 scipy-1.11.2 smart-open-6.3.0 spacy-3.5.3 spacy-legacy-3.0.12 spacy-loggers-1.0.4 srsly-2.4.7 tensorboard-2.13.0 tensorboard-data-server-0.7.1 tensorflow-2.13.0 tensorflow-estimator-2.13.0 tensorflow-io-gcs-filesystem-0.33.0 termcolor-2.3.0 thinc-8.1.12 threadpoolctl-3.2.0 tqdm-4.66.1 typer-0.7.0 typing-extensions-4.5.0 tzdata-2023.3 urllib3-1.26.16 wasabi-1.1.2 werkzeug-2.3.7 wrapt-1.15.0\n"
     ]
    }
   ],
   "source": [
    "!pip install -r ../requirements.txt"
   ]
  },
  {
   "cell_type": "code",
   "execution_count": 6,
   "id": "580bd30b",
   "metadata": {},
   "outputs": [
    {
     "name": "stdout",
     "output_type": "stream",
     "text": [
      "lightfm                       1.17\n"
     ]
    }
   ],
   "source": [
    "!pip list | grep lightfm"
   ]
  },
  {
   "cell_type": "markdown",
   "id": "448072ab",
   "metadata": {},
   "source": [
    "#### LFM test\n",
    "\n",
    "다른 모델 모듈 호출 시 pip install 필요 현재 예측까지만 가능"
   ]
  },
  {
   "cell_type": "code",
   "execution_count": 7,
   "id": "6003a27e",
   "metadata": {},
   "outputs": [
    {
     "name": "stdout",
     "output_type": "stream",
     "text": [
      "2023-08-23 02:15:02.887158: I tensorflow/core/platform/cpu_feature_guard.cc:182] This TensorFlow binary is optimized to use available CPU instructions in performance-critical operations.\n",
      "To enable the following instructions: AVX2 FMA, in other operations, rebuild TensorFlow with the appropriate compiler flags.\n",
      "Traceback (most recent call last):\n",
      "  File \"/Users/leekawo/project/pj6_baseline/AIB18Section7PJT_AICINE/src/train.py\", line 13, in <module>\n",
      "    from models import MF, KNN, SVD, MLP, LightFM\n",
      "  File \"/Users/leekawo/project/pj6_baseline/AIB18Section7PJT_AICINE/src/models/SVD.py\", line 1, in <module>\n",
      "    from surprise import SVD, Dataset, Reader, accuracy\n",
      "ModuleNotFoundError: No module named 'surprise'\n"
     ]
    }
   ],
   "source": [
    "# cmd\n",
    "!python train.py --no-knn --no-mf --no-svd --no-mlp -e 10"
   ]
  },
  {
   "cell_type": "code",
   "execution_count": 8,
   "id": "a5aa0572",
   "metadata": {},
   "outputs": [
    {
     "name": "stderr",
     "output_type": "stream",
     "text": [
      "/Users/leekawo/anaconda3/envs/pj2_test/lib/python3.9/site-packages/lightfm/_lightfm_fast.py:9: UserWarning: LightFM was compiled without OpenMP support. Only a single thread will be used.\n",
      "  warnings.warn(\n"
     ]
    },
    {
     "data": {
      "text/plain": [
       "array([1178,  847,  604, 1575,  257, 1959, 1203,  589,  108, 1180])"
      ]
     },
     "execution_count": 8,
     "metadata": {},
     "output_type": "execute_result"
    }
   ],
   "source": [
    "from models.LightFM import LightFM_Model\n",
    "\n",
    "lightfm = LightFM_Model(model_path=\"./models/lightfm_model.joblib\", dataset_path=\"./models/lightfm_dataset.joblib\")\n",
    "\n",
    "USER_ID = 1\n",
    "TOP_NUM = 10\n",
    "movie_lightfm_pred = lightfm.predict(USER_ID, TOP_NUM)\n",
    "movie_lightfm_pred"
   ]
  }
 ],
 "metadata": {
  "kernelspec": {
   "display_name": "Python 3 (ipykernel)",
   "language": "python",
   "name": "python3"
  },
  "language_info": {
   "codemirror_mode": {
    "name": "ipython",
    "version": 3
   },
   "file_extension": ".py",
   "mimetype": "text/x-python",
   "name": "python",
   "nbconvert_exporter": "python",
   "pygments_lexer": "ipython3",
   "version": "3.9.17"
  }
 },
 "nbformat": 4,
 "nbformat_minor": 5
}
