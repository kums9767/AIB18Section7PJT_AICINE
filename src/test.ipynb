{
 "cells": [
  {
   "cell_type": "markdown",
   "id": "c324c75f-1236-43bf-8d9a-37000071e16b",
   "metadata": {},
   "source": [
    "### 모델 훈련\n",
    "개별 파일(MF.py, KNN.py)에서도 훈련이 가능하지만, 최상위 모듈인 train.py를 사용하여 학습을 진행할 수 있습니다.</br>\n",
    "train.py 모듈을 터미널에서 실행하는 것으로 학습할 수 있습니다.</br>\n",
    "train.py와 함께 사용할 수 있는 arguments들은 다음과 같습니다.</br>\n",
    "\n",
    "**mf 모델 학습용 arguments**\n",
    "- --mf : Matrix Factorization 모델의 학습 여부를 결정하는 인자입니다. --mf 를 입력하는 경우 학습을 진행하며, --no-mf를 입력하는 경우 해당 모델의 학습을 진행하지 않습니다.(입력하지 않았을 경우에는 학습 진행을 하도록 되어 있습니다.)\n",
    "- -k : Matrix Factorization 행렬의 크기를 결정하는 인자값입니다. (default = 200)\n",
    "- -e 또는 --epochs : mf 모델의 학습 횟수를 결정하는 인자입니다. (default = 1)\n",
    "- -b 또는 --batch_size : 학습 시 사용하는 batch_size를 결정하는 인자입니다.(default = 512)\n",
    "\n",
    "**knn 모델 학습용 arguments**\n",
    "- --knn : 최근접 이웃을 활용한 콘텐츠 기반 필터링 모델의 학습 여부를 결정하는 인자입니다. --knn을 입력하는 경우 학습을 진행하며, word2vec 모델과 cbf_data, knn모델을 models 폴더 경로에 생성합니다.(이미 존재하는 경우에는 업데이트) --no-knn을 입력하면 해당 모델의 학습을 진행하지 않습니다.(입력하지 않았을 경우에는 학습 진행을 하도록 되어 있습니다.)\n",
    "- --vector_size : word2vec 학습에 생성하는 행렬 차원의 수를 결정하는 인자입니다.(default = 100)\n",
    "- --pretrained : 영화 장르 임베딩을 적용할 때 사용하는 gensim의 사전학습 모델을 결정하는 인자입니다. (default = 'glove-twitter-100')"
   ]
  },
  {
   "cell_type": "code",
   "execution_count": 3,
   "id": "be019fe2-ef34-45b0-b31b-aa009fbdf24d",
   "metadata": {
    "tags": []
   },
   "outputs": [
    {
     "name": "stdout",
     "output_type": "stream",
     "text": [
      "2023-06-28 07:53:59.530928: I tensorflow/tsl/cuda/cudart_stub.cc:28] Could not find cuda drivers on your machine, GPU will not be used.\n",
      "2023-06-28 07:53:59.574179: I tensorflow/tsl/cuda/cudart_stub.cc:28] Could not find cuda drivers on your machine, GPU will not be used.\n",
      "2023-06-28 07:53:59.574713: I tensorflow/core/platform/cpu_feature_guard.cc:182] This TensorFlow binary is optimized to use available CPU instructions in performance-critical operations.\n",
      "To enable the following instructions: AVX2 FMA, in other operations, rebuild TensorFlow with the appropriate compiler flags.\n",
      "2023-06-28 07:54:00.381440: W tensorflow/compiler/tf2tensorrt/utils/py_utils.cc:38] TF-TRT Warning: Could not find TensorRT\n",
      "Epoch 1/3\n",
      "1251/1251 [==============================] - 25s 19ms/step - loss: 5.7587 - val_loss: 0.9398\n",
      "Epoch 2/3\n",
      "1251/1251 [==============================] - 23s 18ms/step - loss: 0.8581 - val_loss: 0.8353\n",
      "Epoch 3/3\n",
      "1251/1251 [==============================] - 25s 20ms/step - loss: 0.7570 - val_loss: 0.7887\n",
      "---Saving model---\n",
      "Save Complete.\n"
     ]
    }
   ],
   "source": [
    "#CLI\n",
    "#mf모델만 3 epochs로 학습하라는 명령어(knn 모델은 학습하지 않음)\n",
    "#두가지 모델을 전무 학습시키고 싶다면 !python trian.py 명령어를 사용하시면 됩니다.\n",
    "!python train.py --no-knn -e 3"
   ]
  },
  {
   "cell_type": "markdown",
   "id": "9a567502-f546-4f67-91d2-3ac8a3cfba11",
   "metadata": {},
   "source": [
    "### 인기도 기반 추천 시스템 테스트\n",
    "베이스라인 모델의 인기도 기반 추천은 사용자들이 가장 많이 평점을 남긴 영화 순으로 추천하도록 설계되어 있습니다.</br>\n",
    "관련 코드는 models 폴더의 impersonal.py 코드에 작성되어 있습니다."
   ]
  },
  {
   "cell_type": "code",
   "execution_count": 1,
   "id": "ce1dae94-bc99-4e7f-9bf5-efaf929ec29e",
   "metadata": {
    "tags": []
   },
   "outputs": [
    {
     "data": {
      "text/plain": [
       "[2858, 260, 1196, 1210, 480, 2028, 589, 2571, 1270, 593]"
      ]
     },
     "execution_count": 1,
     "metadata": {},
     "output_type": "execute_result"
    }
   ],
   "source": [
    "from models.impersonal import popular\n",
    "popular(10)"
   ]
  },
  {
   "cell_type": "markdown",
   "id": "2dc7d5c0-1ae1-46a3-b90a-74dac0ae5699",
   "metadata": {},
   "source": [
    "### 협업 필터링 모델 테스트\n",
    "Matrix Factorization 기반 모델 코드의 경우 train.py를 통해 학습한 mf.h5 파일을 로드하여 예측을 진행합니다."
   ]
  },
  {
   "cell_type": "code",
   "execution_count": 10,
   "id": "e69e7450-f9ab-48e9-8c69-d807439ff616",
   "metadata": {
    "tags": []
   },
   "outputs": [],
   "source": [
    "from models.MF import MF\n",
    "\n",
    "mf = MF('./models/mf.h5')"
   ]
  },
  {
   "cell_type": "code",
   "execution_count": 41,
   "id": "93daed87-1a6b-4fa4-a9a5-fb389bfc2a83",
   "metadata": {
    "tags": []
   },
   "outputs": [
    {
     "data": {
      "text/plain": [
       "[527, 318, 1207, 1198, 50, 858, 1148, 260, 2324, 910]"
      ]
     },
     "execution_count": 41,
     "metadata": {},
     "output_type": "execute_result"
    }
   ],
   "source": [
    "userid = 1004\n",
    "mf.predict(userid)"
   ]
  },
  {
   "cell_type": "markdown",
   "id": "c2e6ecf3-c2a6-4573-bcd2-be1e9b971b2c",
   "metadata": {},
   "source": [
    "### 콘텐츠 기반 필터링 모델 테스트\n",
    "최근접 이웃 알고리즘을 활용한 콘텐츠 기반 필터링 모델의 경우 train.py를 통해 학습한 knn.joblib 파일을 로드하여 예측을 진행합니다."
   ]
  },
  {
   "cell_type": "code",
   "execution_count": 10,
   "id": "135ddc53-3b3a-48fd-bdb0-2905b8cc4b07",
   "metadata": {
    "tags": []
   },
   "outputs": [],
   "source": [
    "from models.KNN import KNN\n",
    "\n",
    "knn = KNN('models/knn.joblib')"
   ]
  },
  {
   "cell_type": "code",
   "execution_count": 11,
   "id": "5a21c72f-76b0-4e43-b9c7-b3d9056cbd3f",
   "metadata": {
    "tags": []
   },
   "outputs": [
    {
     "data": {
      "text/plain": [
       "array([1187, 1244, 1197,   69,  255, 1178, 1985, 1192,  667,  606])"
      ]
     },
     "execution_count": 11,
     "metadata": {},
     "output_type": "execute_result"
    }
   ],
   "source": [
    "USER_ID = 1\n",
    "TOP_NUM=10\n",
    "knn.predict(USER_ID, TOP_NUM)"
   ]
  },
  {
   "cell_type": "markdown",
   "id": "33810792",
   "metadata": {},
   "source": [
    "### LightFM"
   ]
  },
  {
   "cell_type": "markdown",
   "id": "8855edb3",
   "metadata": {},
   "source": [
    "#### pip install"
   ]
  },
  {
   "cell_type": "code",
   "execution_count": 6,
   "id": "088127a5",
   "metadata": {},
   "outputs": [
    {
     "name": "stdout",
     "output_type": "stream",
     "text": [
      "Collecting en-core-web-sm@ https://github.com/explosion/spacy-models/releases/download/en_core_web_sm-3.5.0/en_core_web_sm-3.5.0-py3-none-any.whl#sha256=0964370218b7e1672a30ac50d72cdc6b16f7c867496f1d60925691188f4d2510 (from -r ./requirements.txt (line 21))\n",
      "  Downloading https://github.com/explosion/spacy-models/releases/download/en_core_web_sm-3.5.0/en_core_web_sm-3.5.0-py3-none-any.whl (12.8 MB)\n",
      "\u001b[2K     \u001b[90m━━━━━━━━━━━━━━━━━━━━━━━━━━━━━━━━━━━━━━━\u001b[0m \u001b[32m12.8/12.8 MB\u001b[0m \u001b[31m537.5 kB/s\u001b[0m eta \u001b[36m0:00:00\u001b[0m00:01\u001b[0m00:01\u001b[0m\n",
      "\u001b[?25hRequirement already satisfied: absl-py==1.4.0 in /Users/leekawo/anaconda3/envs/pj6_baseline/lib/python3.9/site-packages (from -r ./requirements.txt (line 1)) (1.4.0)\n",
      "Requirement already satisfied: appnope==0.1.3 in /Users/leekawo/anaconda3/envs/pj6_baseline/lib/python3.9/site-packages (from -r ./requirements.txt (line 2)) (0.1.3)\n",
      "Requirement already satisfied: asttokens==2.2.1 in /Users/leekawo/anaconda3/envs/pj6_baseline/lib/python3.9/site-packages (from -r ./requirements.txt (line 3)) (2.2.1)\n",
      "Requirement already satisfied: astunparse==1.6.3 in /Users/leekawo/anaconda3/envs/pj6_baseline/lib/python3.9/site-packages (from -r ./requirements.txt (line 4)) (1.6.3)\n",
      "Requirement already satisfied: backcall==0.2.0 in /Users/leekawo/anaconda3/envs/pj6_baseline/lib/python3.9/site-packages (from -r ./requirements.txt (line 5)) (0.2.0)\n",
      "Requirement already satisfied: blis==0.7.10 in /Users/leekawo/anaconda3/envs/pj6_baseline/lib/python3.9/site-packages (from -r ./requirements.txt (line 6)) (0.7.10)\n",
      "Requirement already satisfied: cachetools==5.3.1 in /Users/leekawo/anaconda3/envs/pj6_baseline/lib/python3.9/site-packages (from -r ./requirements.txt (line 7)) (5.3.1)\n",
      "Requirement already satisfied: catalogue==2.0.9 in /Users/leekawo/anaconda3/envs/pj6_baseline/lib/python3.9/site-packages (from -r ./requirements.txt (line 8)) (2.0.9)\n",
      "Collecting category-encoders==2.6.0 (from -r ./requirements.txt (line 9))\n",
      "  Using cached category_encoders-2.6.0-py2.py3-none-any.whl (81 kB)\n",
      "Collecting certifi==2022.5.18.1 (from -r ./requirements.txt (line 10))\n",
      "  Using cached certifi-2022.5.18.1-py3-none-any.whl (155 kB)\n",
      "Requirement already satisfied: charset-normalizer==3.2.0 in /Users/leekawo/anaconda3/envs/pj6_baseline/lib/python3.9/site-packages (from -r ./requirements.txt (line 11)) (3.2.0)\n",
      "Requirement already satisfied: click==8.1.7 in /Users/leekawo/anaconda3/envs/pj6_baseline/lib/python3.9/site-packages (from -r ./requirements.txt (line 12)) (8.1.7)\n",
      "Collecting cloudpickle==2.2.1 (from -r ./requirements.txt (line 13))\n",
      "  Using cached cloudpickle-2.2.1-py3-none-any.whl (25 kB)\n",
      "Collecting comm==0.1.3 (from -r ./requirements.txt (line 14))\n",
      "  Using cached comm-0.1.3-py3-none-any.whl (6.6 kB)\n",
      "Requirement already satisfied: confection==0.1.1 in /Users/leekawo/anaconda3/envs/pj6_baseline/lib/python3.9/site-packages (from -r ./requirements.txt (line 15)) (0.1.1)\n",
      "Requirement already satisfied: contourpy==1.1.0 in /Users/leekawo/anaconda3/envs/pj6_baseline/lib/python3.9/site-packages (from -r ./requirements.txt (line 16)) (1.1.0)\n",
      "Requirement already satisfied: cycler==0.11.0 in /Users/leekawo/anaconda3/envs/pj6_baseline/lib/python3.9/site-packages (from -r ./requirements.txt (line 17)) (0.11.0)\n",
      "Requirement already satisfied: cymem==2.0.7 in /Users/leekawo/anaconda3/envs/pj6_baseline/lib/python3.9/site-packages (from -r ./requirements.txt (line 18)) (2.0.7)\n",
      "Collecting debugpy==1.6.6 (from -r ./requirements.txt (line 19))\n",
      "  Downloading debugpy-1.6.6-py2.py3-none-any.whl (4.9 MB)\n",
      "\u001b[2K     \u001b[90m━━━━━━━━━━━━━━━━━━━━━━━━━━━━━━━━━━━━━━━━\u001b[0m \u001b[32m4.9/4.9 MB\u001b[0m \u001b[31m1.1 MB/s\u001b[0m eta \u001b[36m0:00:00\u001b[0m00:01\u001b[0m00:01\u001b[0m\n",
      "\u001b[?25hRequirement already satisfied: decorator==5.1.1 in /Users/leekawo/anaconda3/envs/pj6_baseline/lib/python3.9/site-packages (from -r ./requirements.txt (line 20)) (5.1.1)\n",
      "Requirement already satisfied: executing==1.2.0 in /Users/leekawo/anaconda3/envs/pj6_baseline/lib/python3.9/site-packages (from -r ./requirements.txt (line 22)) (1.2.0)\n",
      "Requirement already satisfied: flatbuffers==23.5.26 in /Users/leekawo/anaconda3/envs/pj6_baseline/lib/python3.9/site-packages (from -r ./requirements.txt (line 23)) (23.5.26)\n",
      "Requirement already satisfied: fonttools==4.42.0 in /Users/leekawo/anaconda3/envs/pj6_baseline/lib/python3.9/site-packages (from -r ./requirements.txt (line 24)) (4.42.0)\n",
      "Collecting future==0.18.3 (from -r ./requirements.txt (line 25))\n",
      "  Using cached future-0.18.3.tar.gz (840 kB)\n",
      "  Preparing metadata (setup.py) ... \u001b[?25ldone\n",
      "\u001b[?25hRequirement already satisfied: gast==0.4.0 in /Users/leekawo/anaconda3/envs/pj6_baseline/lib/python3.9/site-packages (from -r ./requirements.txt (line 26)) (0.4.0)\n",
      "Requirement already satisfied: gensim==4.3.1 in /Users/leekawo/anaconda3/envs/pj6_baseline/lib/python3.9/site-packages (from -r ./requirements.txt (line 27)) (4.3.1)\n",
      "Requirement already satisfied: google-auth==2.22.0 in /Users/leekawo/anaconda3/envs/pj6_baseline/lib/python3.9/site-packages (from -r ./requirements.txt (line 28)) (2.22.0)\n",
      "Requirement already satisfied: google-auth-oauthlib==1.0.0 in /Users/leekawo/anaconda3/envs/pj6_baseline/lib/python3.9/site-packages (from -r ./requirements.txt (line 29)) (1.0.0)\n",
      "Requirement already satisfied: google-pasta==0.2.0 in /Users/leekawo/anaconda3/envs/pj6_baseline/lib/python3.9/site-packages (from -r ./requirements.txt (line 30)) (0.2.0)\n",
      "Requirement already satisfied: grpcio==1.57.0 in /Users/leekawo/anaconda3/envs/pj6_baseline/lib/python3.9/site-packages (from -r ./requirements.txt (line 31)) (1.57.0)\n",
      "Requirement already satisfied: h5py==3.9.0 in /Users/leekawo/anaconda3/envs/pj6_baseline/lib/python3.9/site-packages (from -r ./requirements.txt (line 32)) (3.9.0)\n",
      "Collecting hyperopt==0.2.7 (from -r ./requirements.txt (line 33))\n",
      "  Using cached hyperopt-0.2.7-py2.py3-none-any.whl (1.6 MB)\n",
      "Requirement already satisfied: idna==3.4 in /Users/leekawo/anaconda3/envs/pj6_baseline/lib/python3.9/site-packages (from -r ./requirements.txt (line 34)) (3.4)\n",
      "Collecting ipykernel==6.22.0 (from -r ./requirements.txt (line 35))\n",
      "  Using cached ipykernel-6.22.0-py3-none-any.whl (149 kB)\n",
      "Collecting ipython==8.11.0 (from -r ./requirements.txt (line 36))\n",
      "  Using cached ipython-8.11.0-py3-none-any.whl (793 kB)\n",
      "Requirement already satisfied: jax==0.4.14 in /Users/leekawo/anaconda3/envs/pj6_baseline/lib/python3.9/site-packages (from -r ./requirements.txt (line 37)) (0.4.14)\n",
      "Collecting jedi==0.18.2 (from -r ./requirements.txt (line 38))\n",
      "  Using cached jedi-0.18.2-py2.py3-none-any.whl (1.6 MB)\n",
      "Requirement already satisfied: Jinja2==3.1.2 in /Users/leekawo/anaconda3/envs/pj6_baseline/lib/python3.9/site-packages (from -r ./requirements.txt (line 39)) (3.1.2)\n",
      "Collecting joblib==1.2.0 (from -r ./requirements.txt (line 40))\n",
      "  Using cached joblib-1.2.0-py3-none-any.whl (297 kB)\n",
      "Collecting jupyter_client==8.1.0 (from -r ./requirements.txt (line 41))\n",
      "  Using cached jupyter_client-8.1.0-py3-none-any.whl (102 kB)\n",
      "Collecting jupyter_core==5.3.0 (from -r ./requirements.txt (line 42))\n",
      "  Using cached jupyter_core-5.3.0-py3-none-any.whl (93 kB)\n",
      "Requirement already satisfied: keras==2.12.0 in /Users/leekawo/anaconda3/envs/pj6_baseline/lib/python3.9/site-packages (from -r ./requirements.txt (line 43)) (2.12.0)\n",
      "Requirement already satisfied: kiwisolver==1.4.4 in /Users/leekawo/anaconda3/envs/pj6_baseline/lib/python3.9/site-packages (from -r ./requirements.txt (line 44)) (1.4.4)\n",
      "Requirement already satisfied: langcodes==3.3.0 in /Users/leekawo/anaconda3/envs/pj6_baseline/lib/python3.9/site-packages (from -r ./requirements.txt (line 45)) (3.3.0)\n",
      "Requirement already satisfied: libclang==16.0.6 in /Users/leekawo/anaconda3/envs/pj6_baseline/lib/python3.9/site-packages (from -r ./requirements.txt (line 46)) (16.0.6)\n",
      "Requirement already satisfied: lightfm==1.17 in /Users/leekawo/anaconda3/envs/pj6_baseline/lib/python3.9/site-packages (from -r ./requirements.txt (line 47)) (1.17)\n",
      "Requirement already satisfied: Markdown==3.4.4 in /Users/leekawo/anaconda3/envs/pj6_baseline/lib/python3.9/site-packages (from -r ./requirements.txt (line 48)) (3.4.4)\n",
      "Requirement already satisfied: MarkupSafe==2.1.3 in /Users/leekawo/anaconda3/envs/pj6_baseline/lib/python3.9/site-packages (from -r ./requirements.txt (line 49)) (2.1.3)\n",
      "Requirement already satisfied: matplotlib==3.7.2 in /Users/leekawo/anaconda3/envs/pj6_baseline/lib/python3.9/site-packages (from -r ./requirements.txt (line 50)) (3.7.2)\n",
      "Requirement already satisfied: matplotlib-inline==0.1.6 in /Users/leekawo/anaconda3/envs/pj6_baseline/lib/python3.9/site-packages (from -r ./requirements.txt (line 51)) (0.1.6)\n",
      "Requirement already satisfied: ml-dtypes==0.2.0 in /Users/leekawo/anaconda3/envs/pj6_baseline/lib/python3.9/site-packages (from -r ./requirements.txt (line 52)) (0.2.0)\n",
      "Requirement already satisfied: murmurhash==1.0.9 in /Users/leekawo/anaconda3/envs/pj6_baseline/lib/python3.9/site-packages (from -r ./requirements.txt (line 53)) (1.0.9)\n",
      "Requirement already satisfied: nest-asyncio==1.5.6 in /Users/leekawo/anaconda3/envs/pj6_baseline/lib/python3.9/site-packages (from -r ./requirements.txt (line 54)) (1.5.6)\n",
      "Collecting networkx==3.0 (from -r ./requirements.txt (line 55))\n",
      "  Using cached networkx-3.0-py3-none-any.whl (2.0 MB)\n",
      "Requirement already satisfied: numpy==1.23.5 in /Users/leekawo/anaconda3/envs/pj6_baseline/lib/python3.9/site-packages (from -r ./requirements.txt (line 56)) (1.23.5)\n",
      "Requirement already satisfied: oauthlib==3.2.2 in /Users/leekawo/anaconda3/envs/pj6_baseline/lib/python3.9/site-packages (from -r ./requirements.txt (line 57)) (3.2.2)\n",
      "Requirement already satisfied: opt-einsum==3.3.0 in /Users/leekawo/anaconda3/envs/pj6_baseline/lib/python3.9/site-packages (from -r ./requirements.txt (line 58)) (3.3.0)\n",
      "Collecting packaging==23.0 (from -r ./requirements.txt (line 59))\n",
      "  Using cached packaging-23.0-py3-none-any.whl (42 kB)\n",
      "Requirement already satisfied: pandas==2.0.2 in /Users/leekawo/anaconda3/envs/pj6_baseline/lib/python3.9/site-packages (from -r ./requirements.txt (line 60)) (2.0.2)\n",
      "Requirement already satisfied: parso==0.8.3 in /Users/leekawo/anaconda3/envs/pj6_baseline/lib/python3.9/site-packages (from -r ./requirements.txt (line 61)) (0.8.3)\n",
      "Requirement already satisfied: pathy==0.10.2 in /Users/leekawo/anaconda3/envs/pj6_baseline/lib/python3.9/site-packages (from -r ./requirements.txt (line 62)) (0.10.2)\n",
      "Collecting patsy==0.5.3 (from -r ./requirements.txt (line 63))\n",
      "  Using cached patsy-0.5.3-py2.py3-none-any.whl (233 kB)\n",
      "Requirement already satisfied: pexpect==4.8.0 in /Users/leekawo/anaconda3/envs/pj6_baseline/lib/python3.9/site-packages (from -r ./requirements.txt (line 64)) (4.8.0)\n",
      "Requirement already satisfied: pickleshare==0.7.5 in /Users/leekawo/anaconda3/envs/pj6_baseline/lib/python3.9/site-packages (from -r ./requirements.txt (line 65)) (0.7.5)\n",
      "Requirement already satisfied: Pillow==10.0.0 in /Users/leekawo/anaconda3/envs/pj6_baseline/lib/python3.9/site-packages (from -r ./requirements.txt (line 66)) (10.0.0)\n",
      "Collecting platformdirs==3.2.0 (from -r ./requirements.txt (line 67))\n",
      "  Using cached platformdirs-3.2.0-py3-none-any.whl (14 kB)\n",
      "Requirement already satisfied: preshed==3.0.8 in /Users/leekawo/anaconda3/envs/pj6_baseline/lib/python3.9/site-packages (from -r ./requirements.txt (line 68)) (3.0.8)\n",
      "Collecting prompt-toolkit==3.0.38 (from -r ./requirements.txt (line 69))\n",
      "  Using cached prompt_toolkit-3.0.38-py3-none-any.whl (385 kB)\n",
      "Requirement already satisfied: protobuf==4.24.0 in /Users/leekawo/anaconda3/envs/pj6_baseline/lib/python3.9/site-packages (from -r ./requirements.txt (line 70)) (4.24.0)\n",
      "Collecting psutil==5.9.4 (from -r ./requirements.txt (line 71))\n",
      "  Using cached psutil-5.9.4-cp36-abi3-macosx_10_9_x86_64.whl (243 kB)\n",
      "Requirement already satisfied: ptyprocess==0.7.0 in /Users/leekawo/anaconda3/envs/pj6_baseline/lib/python3.9/site-packages (from -r ./requirements.txt (line 72)) (0.7.0)\n",
      "Requirement already satisfied: pure-eval==0.2.2 in /Users/leekawo/anaconda3/envs/pj6_baseline/lib/python3.9/site-packages (from -r ./requirements.txt (line 73)) (0.2.2)\n",
      "Collecting py4j==0.10.9.7 (from -r ./requirements.txt (line 74))\n",
      "  Using cached py4j-0.10.9.7-py2.py3-none-any.whl (200 kB)\n",
      "Requirement already satisfied: pyasn1==0.5.0 in /Users/leekawo/anaconda3/envs/pj6_baseline/lib/python3.9/site-packages (from -r ./requirements.txt (line 75)) (0.5.0)\n",
      "Requirement already satisfied: pyasn1-modules==0.3.0 in /Users/leekawo/anaconda3/envs/pj6_baseline/lib/python3.9/site-packages (from -r ./requirements.txt (line 76)) (0.3.0)\n",
      "Requirement already satisfied: pydantic==1.10.12 in /Users/leekawo/anaconda3/envs/pj6_baseline/lib/python3.9/site-packages (from -r ./requirements.txt (line 77)) (1.10.12)\n",
      "Collecting Pygments==2.14.0 (from -r ./requirements.txt (line 78))\n",
      "  Using cached Pygments-2.14.0-py3-none-any.whl (1.1 MB)\n",
      "Requirement already satisfied: pyparsing==3.0.9 in /Users/leekawo/anaconda3/envs/pj6_baseline/lib/python3.9/site-packages (from -r ./requirements.txt (line 79)) (3.0.9)\n",
      "Requirement already satisfied: python-dateutil==2.8.2 in /Users/leekawo/anaconda3/envs/pj6_baseline/lib/python3.9/site-packages (from -r ./requirements.txt (line 80)) (2.8.2)\n",
      "Requirement already satisfied: pytz==2023.3 in /Users/leekawo/anaconda3/envs/pj6_baseline/lib/python3.9/site-packages (from -r ./requirements.txt (line 81)) (2023.3)\n",
      "Collecting pyzmq==25.0.2 (from -r ./requirements.txt (line 82))\n",
      "  Downloading pyzmq-25.0.2-cp39-cp39-macosx_10_15_universal2.whl (1.8 MB)\n",
      "\u001b[2K     \u001b[90m━━━━━━━━━━━━━━━━━━━━━━━━━━━━━━━━━━━━━━━━\u001b[0m \u001b[32m1.8/1.8 MB\u001b[0m \u001b[31m512.8 kB/s\u001b[0m eta \u001b[36m0:00:00\u001b[0m00:01\u001b[0m00:01\u001b[0m\n",
      "\u001b[?25hRequirement already satisfied: requests==2.31.0 in /Users/leekawo/anaconda3/envs/pj6_baseline/lib/python3.9/site-packages (from -r ./requirements.txt (line 83)) (2.31.0)\n",
      "Requirement already satisfied: requests-oauthlib==1.3.1 in /Users/leekawo/anaconda3/envs/pj6_baseline/lib/python3.9/site-packages (from -r ./requirements.txt (line 84)) (1.3.1)\n",
      "Requirement already satisfied: rsa==4.9 in /Users/leekawo/anaconda3/envs/pj6_baseline/lib/python3.9/site-packages (from -r ./requirements.txt (line 85)) (4.9)\n",
      "Requirement already satisfied: scikit-learn==1.2.2 in /Users/leekawo/anaconda3/envs/pj6_baseline/lib/python3.9/site-packages (from -r ./requirements.txt (line 86)) (1.2.2)\n",
      "Collecting scipy==1.10.1 (from -r ./requirements.txt (line 87))\n",
      "  Downloading scipy-1.10.1-cp39-cp39-macosx_10_9_x86_64.whl (35.2 MB)\n",
      "\u001b[2K     \u001b[90m━━━━━━━━━━━━━━━━━━━━━━━━━━━━━━━━━━━━━━━\u001b[0m \u001b[32m35.2/35.2 MB\u001b[0m \u001b[31m557.7 kB/s\u001b[0m eta \u001b[36m0:00:00\u001b[0m00:01\u001b[0m00:02\u001b[0m\n",
      "\u001b[?25hRequirement already satisfied: six==1.16.0 in /Users/leekawo/anaconda3/envs/pj6_baseline/lib/python3.9/site-packages (from -r ./requirements.txt (line 88)) (1.16.0)\n",
      "Requirement already satisfied: smart-open==6.3.0 in /Users/leekawo/anaconda3/envs/pj6_baseline/lib/python3.9/site-packages (from -r ./requirements.txt (line 89)) (6.3.0)\n",
      "Requirement already satisfied: spacy==3.5.3 in /Users/leekawo/anaconda3/envs/pj6_baseline/lib/python3.9/site-packages (from -r ./requirements.txt (line 90)) (3.5.3)\n",
      "Requirement already satisfied: spacy-legacy==3.0.12 in /Users/leekawo/anaconda3/envs/pj6_baseline/lib/python3.9/site-packages (from -r ./requirements.txt (line 91)) (3.0.12)\n",
      "Requirement already satisfied: spacy-loggers==1.0.4 in /Users/leekawo/anaconda3/envs/pj6_baseline/lib/python3.9/site-packages (from -r ./requirements.txt (line 92)) (1.0.4)\n",
      "Requirement already satisfied: srsly==2.4.7 in /Users/leekawo/anaconda3/envs/pj6_baseline/lib/python3.9/site-packages (from -r ./requirements.txt (line 93)) (2.4.7)\n",
      "Requirement already satisfied: stack-data==0.6.2 in /Users/leekawo/anaconda3/envs/pj6_baseline/lib/python3.9/site-packages (from -r ./requirements.txt (line 94)) (0.6.2)\n",
      "Collecting statsmodels==0.13.5 (from -r ./requirements.txt (line 95))\n",
      "  Downloading statsmodels-0.13.5-cp39-cp39-macosx_10_9_x86_64.whl (9.7 MB)\n",
      "\u001b[2K     \u001b[90m━━━━━━━━━━━━━━━━━━━━━━━━━━━━━━━━━━━━━━━━\u001b[0m \u001b[32m9.7/9.7 MB\u001b[0m \u001b[31m794.6 kB/s\u001b[0m eta \u001b[36m0:00:00\u001b[0m00:01\u001b[0m00:01\u001b[0m\n",
      "\u001b[?25hRequirement already satisfied: tensorboard==2.12.3 in /Users/leekawo/anaconda3/envs/pj6_baseline/lib/python3.9/site-packages (from -r ./requirements.txt (line 96)) (2.12.3)\n",
      "Requirement already satisfied: tensorboard-data-server==0.7.1 in /Users/leekawo/anaconda3/envs/pj6_baseline/lib/python3.9/site-packages (from -r ./requirements.txt (line 97)) (0.7.1)\n",
      "Requirement already satisfied: tensorflow==2.12.0 in /Users/leekawo/anaconda3/envs/pj6_baseline/lib/python3.9/site-packages (from -r ./requirements.txt (line 98)) (2.12.0)\n",
      "Requirement already satisfied: tensorflow-estimator==2.12.0 in /Users/leekawo/anaconda3/envs/pj6_baseline/lib/python3.9/site-packages (from -r ./requirements.txt (line 99)) (2.12.0)\n",
      "Requirement already satisfied: tensorflow-io-gcs-filesystem==0.33.0 in /Users/leekawo/anaconda3/envs/pj6_baseline/lib/python3.9/site-packages (from -r ./requirements.txt (line 100)) (0.33.0)\n",
      "Requirement already satisfied: termcolor==2.3.0 in /Users/leekawo/anaconda3/envs/pj6_baseline/lib/python3.9/site-packages (from -r ./requirements.txt (line 101)) (2.3.0)\n",
      "Requirement already satisfied: thinc==8.1.12 in /Users/leekawo/anaconda3/envs/pj6_baseline/lib/python3.9/site-packages (from -r ./requirements.txt (line 102)) (8.1.12)\n",
      "Collecting threadpoolctl==3.1.0 (from -r ./requirements.txt (line 103))\n",
      "  Using cached threadpoolctl-3.1.0-py3-none-any.whl (14 kB)\n",
      "Collecting tornado==6.2 (from -r ./requirements.txt (line 104))\n",
      "  Using cached tornado-6.2-cp37-abi3-macosx_10_9_x86_64.whl (419 kB)\n",
      "Collecting tqdm==4.65.0 (from -r ./requirements.txt (line 105))\n",
      "  Using cached tqdm-4.65.0-py3-none-any.whl (77 kB)\n",
      "Requirement already satisfied: traitlets==5.9.0 in /Users/leekawo/anaconda3/envs/pj6_baseline/lib/python3.9/site-packages (from -r ./requirements.txt (line 106)) (5.9.0)\n",
      "Requirement already satisfied: typer==0.7.0 in /Users/leekawo/anaconda3/envs/pj6_baseline/lib/python3.9/site-packages (from -r ./requirements.txt (line 107)) (0.7.0)\n",
      "Requirement already satisfied: typing_extensions==4.7.1 in /Users/leekawo/anaconda3/envs/pj6_baseline/lib/python3.9/site-packages (from -r ./requirements.txt (line 108)) (4.7.1)\n",
      "Requirement already satisfied: tzdata==2023.3 in /Users/leekawo/anaconda3/envs/pj6_baseline/lib/python3.9/site-packages (from -r ./requirements.txt (line 109)) (2023.3)\n",
      "Requirement already satisfied: urllib3==1.26.16 in /Users/leekawo/anaconda3/envs/pj6_baseline/lib/python3.9/site-packages (from -r ./requirements.txt (line 110)) (1.26.16)\n",
      "Requirement already satisfied: wasabi==1.1.2 in /Users/leekawo/anaconda3/envs/pj6_baseline/lib/python3.9/site-packages (from -r ./requirements.txt (line 111)) (1.1.2)\n",
      "Requirement already satisfied: wcwidth==0.2.6 in /Users/leekawo/anaconda3/envs/pj6_baseline/lib/python3.9/site-packages (from -r ./requirements.txt (line 112)) (0.2.6)\n",
      "Requirement already satisfied: Werkzeug==2.3.7 in /Users/leekawo/anaconda3/envs/pj6_baseline/lib/python3.9/site-packages (from -r ./requirements.txt (line 113)) (2.3.7)\n",
      "Requirement already satisfied: wrapt==1.14.1 in /Users/leekawo/anaconda3/envs/pj6_baseline/lib/python3.9/site-packages (from -r ./requirements.txt (line 114)) (1.14.1)\n",
      "Requirement already satisfied: wheel<1.0,>=0.23.0 in /Users/leekawo/anaconda3/envs/pj6_baseline/lib/python3.9/site-packages (from astunparse==1.6.3->-r ./requirements.txt (line 4)) (0.38.4)\n",
      "Requirement already satisfied: importlib-metadata>=4.6 in /Users/leekawo/anaconda3/envs/pj6_baseline/lib/python3.9/site-packages (from jax==0.4.14->-r ./requirements.txt (line 37)) (6.8.0)\n",
      "Requirement already satisfied: importlib-resources>=3.2.0 in /Users/leekawo/anaconda3/envs/pj6_baseline/lib/python3.9/site-packages (from matplotlib==3.7.2->-r ./requirements.txt (line 50)) (6.0.1)\n",
      "Requirement already satisfied: setuptools in /Users/leekawo/anaconda3/envs/pj6_baseline/lib/python3.9/site-packages (from spacy==3.5.3->-r ./requirements.txt (line 90)) (68.0.0)\n",
      "Requirement already satisfied: zipp>=0.5 in /Users/leekawo/anaconda3/envs/pj6_baseline/lib/python3.9/site-packages (from importlib-metadata>=4.6->jax==0.4.14->-r ./requirements.txt (line 37)) (3.16.2)\n",
      "Building wheels for collected packages: future\n",
      "  Building wheel for future (setup.py) ... \u001b[?25ldone\n",
      "\u001b[?25h  Created wheel for future: filename=future-0.18.3-py3-none-any.whl size=492025 sha256=d202b8e278a9655248197e7c899aad74001000fb5943d78c728bc5bd3caa9069\n",
      "  Stored in directory: /Users/leekawo/Library/Caches/pip/wheels/bf/5d/6a/2e53874f7ec4e2bede522385439531fafec8fafe005b5c3d1b\n",
      "Successfully built future\n",
      "Installing collected packages: py4j, tqdm, tornado, threadpoolctl, scipy, pyzmq, Pygments, psutil, prompt-toolkit, platformdirs, patsy, packaging, networkx, joblib, jedi, future, debugpy, comm, cloudpickle, certifi, jupyter_core, hyperopt, statsmodels, jupyter_client, ipython, ipykernel, category-encoders\n",
      "  Attempting uninstall: tqdm\n",
      "    Found existing installation: tqdm 4.66.1\n",
      "    Uninstalling tqdm-4.66.1:\n",
      "      Successfully uninstalled tqdm-4.66.1\n",
      "  Attempting uninstall: tornado\n",
      "    Found existing installation: tornado 6.3.3\n",
      "    Uninstalling tornado-6.3.3:\n",
      "      Successfully uninstalled tornado-6.3.3\n",
      "  Attempting uninstall: threadpoolctl\n",
      "    Found existing installation: threadpoolctl 3.2.0\n",
      "    Uninstalling threadpoolctl-3.2.0:\n",
      "      Successfully uninstalled threadpoolctl-3.2.0\n",
      "  Attempting uninstall: scipy\n",
      "    Found existing installation: scipy 1.11.2\n",
      "    Uninstalling scipy-1.11.2:\n",
      "      Successfully uninstalled scipy-1.11.2\n",
      "  Attempting uninstall: pyzmq\n",
      "    Found existing installation: pyzmq 23.2.1\n",
      "    Uninstalling pyzmq-23.2.1:\n",
      "      Successfully uninstalled pyzmq-23.2.1\n",
      "  Attempting uninstall: Pygments\n",
      "    Found existing installation: Pygments 2.16.1\n",
      "    Uninstalling Pygments-2.16.1:\n",
      "      Successfully uninstalled Pygments-2.16.1\n",
      "  Attempting uninstall: psutil\n",
      "    Found existing installation: psutil 5.9.5\n",
      "    Uninstalling psutil-5.9.5:\n",
      "      Successfully uninstalled psutil-5.9.5\n",
      "  Attempting uninstall: prompt-toolkit\n",
      "    Found existing installation: prompt-toolkit 3.0.39\n",
      "    Uninstalling prompt-toolkit-3.0.39:\n",
      "      Successfully uninstalled prompt-toolkit-3.0.39\n",
      "  Attempting uninstall: platformdirs\n",
      "    Found existing installation: platformdirs 3.10.0\n",
      "    Uninstalling platformdirs-3.10.0:\n",
      "      Successfully uninstalled platformdirs-3.10.0\n",
      "  Attempting uninstall: packaging\n",
      "    Found existing installation: packaging 23.1\n",
      "    Uninstalling packaging-23.1:\n",
      "      Successfully uninstalled packaging-23.1\n",
      "  Attempting uninstall: joblib\n",
      "    Found existing installation: joblib 1.3.2\n",
      "    Uninstalling joblib-1.3.2:\n",
      "      Successfully uninstalled joblib-1.3.2\n",
      "  Attempting uninstall: jedi\n",
      "    Found existing installation: jedi 0.19.0\n",
      "    Uninstalling jedi-0.19.0:\n",
      "      Successfully uninstalled jedi-0.19.0\n",
      "  Attempting uninstall: debugpy\n",
      "    Found existing installation: debugpy 1.6.7\n",
      "    Uninstalling debugpy-1.6.7:\n",
      "      Successfully uninstalled debugpy-1.6.7\n",
      "  Attempting uninstall: comm\n",
      "    Found existing installation: comm 0.1.4\n",
      "    Uninstalling comm-0.1.4:\n",
      "      Successfully uninstalled comm-0.1.4\n",
      "  Attempting uninstall: certifi\n",
      "    Found existing installation: certifi 2023.7.22\n",
      "    Uninstalling certifi-2023.7.22:\n",
      "      Successfully uninstalled certifi-2023.7.22\n",
      "  Attempting uninstall: jupyter_core\n",
      "    Found existing installation: jupyter_core 5.3.1\n",
      "    Uninstalling jupyter_core-5.3.1:\n",
      "      Successfully uninstalled jupyter_core-5.3.1\n",
      "  Attempting uninstall: jupyter_client\n",
      "    Found existing installation: jupyter_client 8.3.0\n",
      "    Uninstalling jupyter_client-8.3.0:\n",
      "      Successfully uninstalled jupyter_client-8.3.0\n",
      "  Attempting uninstall: ipython\n",
      "    Found existing installation: ipython 8.14.0\n",
      "    Uninstalling ipython-8.14.0:\n",
      "      Successfully uninstalled ipython-8.14.0\n",
      "  Attempting uninstall: ipykernel\n",
      "    Found existing installation: ipykernel 6.25.1\n",
      "    Uninstalling ipykernel-6.25.1:\n",
      "      Successfully uninstalled ipykernel-6.25.1\n",
      "Successfully installed Pygments-2.14.0 category-encoders-2.6.0 certifi-2022.5.18.1 cloudpickle-2.2.1 comm-0.1.3 debugpy-1.6.6 future-0.18.3 hyperopt-0.2.7 ipykernel-6.22.0 ipython-8.11.0 jedi-0.18.2 joblib-1.2.0 jupyter_client-8.1.0 jupyter_core-5.3.0 networkx-3.0 packaging-23.0 patsy-0.5.3 platformdirs-3.2.0 prompt-toolkit-3.0.38 psutil-5.9.4 py4j-0.10.9.7 pyzmq-25.0.2 scipy-1.10.1 statsmodels-0.13.5 threadpoolctl-3.1.0 tornado-6.2 tqdm-4.65.0\n"
     ]
    }
   ],
   "source": [
    "!pip install -r ./requirements.txt\n",
    "# !pip install -r ../requirements.txt"
   ]
  },
  {
   "cell_type": "code",
   "execution_count": 3,
   "id": "b2435f1b",
   "metadata": {},
   "outputs": [
    {
     "name": "stdout",
     "output_type": "stream",
     "text": [
      "Collecting chardet\n",
      "  Obtaining dependency information for chardet from https://files.pythonhosted.org/packages/38/6f/f5fbc992a329ee4e0f288c1fe0e2ad9485ed064cac731ed2fe47dcc38cbf/chardet-5.2.0-py3-none-any.whl.metadata\n",
      "  Downloading chardet-5.2.0-py3-none-any.whl.metadata (3.4 kB)\n",
      "Downloading chardet-5.2.0-py3-none-any.whl (199 kB)\n",
      "\u001b[2K   \u001b[90m━━━━━━━━━━━━━━━━━━━━━━━━━━━━━━━━━━━━━━━━\u001b[0m \u001b[32m199.4/199.4 kB\u001b[0m \u001b[31m1.1 MB/s\u001b[0m eta \u001b[36m0:00:00\u001b[0mta \u001b[36m0:00:01\u001b[0m\n",
      "\u001b[?25hInstalling collected packages: chardet\n",
      "Successfully installed chardet-5.2.0\n"
     ]
    }
   ],
   "source": [
    "!pip install chardet"
   ]
  },
  {
   "cell_type": "code",
   "execution_count": 12,
   "id": "580bd30b",
   "metadata": {},
   "outputs": [
    {
     "name": "stdout",
     "output_type": "stream",
     "text": [
      "lightfm                       1.17\n",
      "numpy                         1.24.3\n",
      "chardet                       5.2.0\n",
      "matplotlib                    3.7.2\n",
      "matplotlib-inline             0.1.6\n"
     ]
    }
   ],
   "source": [
    "!pip list | grep lightfm\n",
    "!pip list | grep numpy\n",
    "!pip list | grep chardet\n",
    "!pip list | grep matplotlib"
   ]
  },
  {
   "cell_type": "markdown",
   "id": "448072ab",
   "metadata": {},
   "source": [
    "#### LFM test\n",
    "\n",
    "다른 모델 모듈 호출 시 pip install 필요 현재 예측까지만 가능"
   ]
  },
  {
   "cell_type": "code",
   "execution_count": 9,
   "id": "3ef50eed",
   "metadata": {},
   "outputs": [
    {
     "name": "stdout",
     "output_type": "stream",
     "text": [
      "2023-08-24 15:26:46.068811: I tensorflow/core/platform/cpu_feature_guard.cc:182] This TensorFlow binary is optimized to use available CPU instructions in performance-critical operations.\n",
      "To enable the following instructions: AVX2 FMA, in other operations, rebuild TensorFlow with the appropriate compiler flags.\n",
      "/Users/leekawo/anaconda3/envs/pj2_test/lib/python3.9/site-packages/lightfm/_lightfm_fast.py:9: UserWarning: LightFM was compiled without OpenMP support. Only a single thread will be used.\n",
      "  warnings.warn(\n",
      "---LightFM Model Training...---\n",
      "Epoch: 100%|████████████████████████████████████| 10/10 [00:38<00:00,  3.85s/it]\n",
      "Training set AUC: 0.9545115232467651\n",
      "---LightFM Model and Dataset Training Complete---\n"
     ]
    }
   ],
   "source": [
    "# cmd\n",
    "# !python train.py --no-knn --no-mf --no-svd --no-mlp -e 10\n",
    "!python train.py --no-knn --no-mf -e 10"
   ]
  },
  {
   "cell_type": "code",
   "execution_count": 11,
   "id": "a5aa0572",
   "metadata": {},
   "outputs": [
    {
     "name": "stderr",
     "output_type": "stream",
     "text": [
      "/Users/leekawo/anaconda3/envs/pj2_test/lib/python3.9/site-packages/lightfm/_lightfm_fast.py:9: UserWarning: LightFM was compiled without OpenMP support. Only a single thread will be used.\n",
      "  warnings.warn(\n"
     ]
    },
    {
     "data": {
      "text/plain": [
       "array([1959,  847,  108, 3349, 1885,  315, 1656, 1568,  770,   20])"
      ]
     },
     "execution_count": 11,
     "metadata": {},
     "output_type": "execute_result"
    }
   ],
   "source": [
    "from models.LightFM import LightFM_Model\n",
    "\n",
    "lightfm = LightFM_Model(model_path=\"./models/lightfm_model.joblib\", dataset_path=\"./models/lightfm_dataset.joblib\")\n",
    "\n",
    "USER_ID = 1\n",
    "TOP_NUM = 10\n",
    "movie_lightfm_pred = lightfm.predict(USER_ID, TOP_NUM)\n",
    "movie_lightfm_pred"
   ]
  },
  {
   "cell_type": "code",
   "execution_count": 10,
   "id": "b375923c",
   "metadata": {},
   "outputs": [
    {
     "name": "stdout",
     "output_type": "stream",
     "text": [
      "/Users/leekawo/anaconda3/envs/pj2_test/lib/python3.9/site-packages/lightfm/_lightfm_fast.py:9: UserWarning: LightFM was compiled without OpenMP support. Only a single thread will be used.\n",
      "  warnings.warn(\n",
      "[1959  847  108 3349 1885  315 1656 1568  770   20]\n"
     ]
    }
   ],
   "source": [
    "# LightFM 모델 단독 예측 실행\n",
    "!python models/LightFM.py -u 1 -n 10"
   ]
  }
 ],
 "metadata": {
  "kernelspec": {
   "display_name": "Python 3 (ipykernel)",
   "language": "python",
   "name": "python3"
  },
  "language_info": {
   "codemirror_mode": {
    "name": "ipython",
    "version": 3
   },
   "file_extension": ".py",
   "mimetype": "text/x-python",
   "name": "python",
   "nbconvert_exporter": "python",
   "pygments_lexer": "ipython3",
   "version": "3.9.17"
  }
 },
 "nbformat": 4,
 "nbformat_minor": 5
}
