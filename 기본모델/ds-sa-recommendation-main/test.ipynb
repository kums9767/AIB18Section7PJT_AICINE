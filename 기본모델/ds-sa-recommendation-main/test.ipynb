{
 "cells": [
  {
   "cell_type": "markdown",
   "id": "c324c75f-1236-43bf-8d9a-37000071e16b",
   "metadata": {},
   "source": [
    "### 모델 훈련\n",
    "개별 파일(MF.py, KNN.py)에서도 훈련이 가능하지만, 최상위 모듈인 train.py를 사용하여 학습을 진행할 수 있습니다.</br>\n",
    "train.py 모듈을 터미널에서 실행하는 것으로 학습할 수 있습니다.</br>\n",
    "train.py와 함께 사용할 수 있는 arguments들은 다음과 같습니다.</br>\n",
    "\n",
    "**mf 모델 학습용 arguments**\n",
    "- --mf : Matrix Factorization 모델의 학습 여부를 결정하는 인자입니다. --mf 를 입력하는 경우 학습을 진행하며, --no-mf를 입력하는 경우 해당 모델의 학습을 진행하지 않습니다.(입력하지 않았을 경우에는 학습 진행을 하도록 되어 있습니다.)\n",
    "- -k : Matrix Factorization 행렬의 크기를 결정하는 인자값입니다. (default = 200)\n",
    "- -e 또는 --epochs : mf 모델의 학습 횟수를 결정하는 인자입니다. (default = 1)\n",
    "- -b 또는 --batch_size : 학습 시 사용하는 batch_size를 결정하는 인자입니다.(default = 512)\n",
    "\n",
    "**knn 모델 학습용 arguments**\n",
    "- --knn : 최근접 이웃을 활용한 콘텐츠 기반 필터링 모델의 학습 여부를 결정하는 인자입니다. --knn을 입력하는 경우 학습을 진행하며, word2vec 모델과 cbf_data, knn모델을 models 폴더 경로에 생성합니다.(이미 존재하는 경우에는 업데이트) --no-knn을 입력하면 해당 모델의 학습을 진행하지 않습니다.(입력하지 않았을 경우에는 학습 진행을 하도록 되어 있습니다.)\n",
    "- --vector_size : word2vec 학습에 생성하는 행렬 차원의 수를 결정하는 인자입니다.(default = 100)\n",
    "- --pretrained : 영화 장르 임베딩을 적용할 때 사용하는 gensim의 사전학습 모델을 결정하는 인자입니다. (default = 'glove-twitter-100')"
   ]
  },
  {
   "cell_type": "code",
   "execution_count": 3,
   "id": "be019fe2-ef34-45b0-b31b-aa009fbdf24d",
   "metadata": {
    "tags": []
   },
   "outputs": [
    {
     "name": "stdout",
     "output_type": "stream",
     "text": [
      "2023-06-28 07:53:59.530928: I tensorflow/tsl/cuda/cudart_stub.cc:28] Could not find cuda drivers on your machine, GPU will not be used.\n",
      "2023-06-28 07:53:59.574179: I tensorflow/tsl/cuda/cudart_stub.cc:28] Could not find cuda drivers on your machine, GPU will not be used.\n",
      "2023-06-28 07:53:59.574713: I tensorflow/core/platform/cpu_feature_guard.cc:182] This TensorFlow binary is optimized to use available CPU instructions in performance-critical operations.\n",
      "To enable the following instructions: AVX2 FMA, in other operations, rebuild TensorFlow with the appropriate compiler flags.\n",
      "2023-06-28 07:54:00.381440: W tensorflow/compiler/tf2tensorrt/utils/py_utils.cc:38] TF-TRT Warning: Could not find TensorRT\n",
      "Epoch 1/3\n",
      "1251/1251 [==============================] - 25s 19ms/step - loss: 5.7587 - val_loss: 0.9398\n",
      "Epoch 2/3\n",
      "1251/1251 [==============================] - 23s 18ms/step - loss: 0.8581 - val_loss: 0.8353\n",
      "Epoch 3/3\n",
      "1251/1251 [==============================] - 25s 20ms/step - loss: 0.7570 - val_loss: 0.7887\n",
      "---Saving model---\n",
      "Save Complete.\n"
     ]
    }
   ],
   "source": [
    "#CLI\n",
    "#mf모델만 3 epochs로 학습하라는 명령어(knn 모델은 학습하지 않음)\n",
    "#두가지 모델을 전무 학습시키고 싶다면 !python trian.py 명령어를 사용하시면 됩니다.\n",
    "!python train.py --no-knn -e 3"
   ]
  },
  {
   "cell_type": "markdown",
   "id": "9a567502-f546-4f67-91d2-3ac8a3cfba11",
   "metadata": {},
   "source": [
    "### 인기도 기반 추천 시스템 테스트\n",
    "베이스라인 모델의 인기도 기반 추천은 사용자들이 가장 많이 평점을 남긴 영화 순으로 추천하도록 설계되어 있습니다.</br>\n",
    "관련 코드는 models 폴더의 impersonal.py 코드에 작성되어 있습니다."
   ]
  },
  {
   "cell_type": "code",
   "execution_count": 1,
   "id": "ce1dae94-bc99-4e7f-9bf5-efaf929ec29e",
   "metadata": {
    "tags": []
   },
   "outputs": [
    {
     "data": {
      "text/plain": [
       "[2858, 260, 1196, 1210, 480, 2028, 589, 2571, 1270, 593]"
      ]
     },
     "execution_count": 1,
     "metadata": {},
     "output_type": "execute_result"
    }
   ],
   "source": [
    "from models.impersonal import popular\n",
    "popular(10)"
   ]
  },
  {
   "cell_type": "markdown",
   "id": "2dc7d5c0-1ae1-46a3-b90a-74dac0ae5699",
   "metadata": {},
   "source": [
    "### 협업 필터링 모델 테스트\n",
    "Matrix Factorization 기반 모델 코드의 경우 train.py를 통해 학습한 mf.h5 파일을 로드하여 예측을 진행합니다."
   ]
  },
  {
   "cell_type": "code",
   "execution_count": 10,
   "id": "e69e7450-f9ab-48e9-8c69-d807439ff616",
   "metadata": {
    "tags": []
   },
   "outputs": [],
   "source": [
    "from models.MF import MF\n",
    "\n",
    "mf = MF('./models/mf.h5')"
   ]
  },
  {
   "cell_type": "code",
   "execution_count": 41,
   "id": "93daed87-1a6b-4fa4-a9a5-fb389bfc2a83",
   "metadata": {
    "tags": []
   },
   "outputs": [
    {
     "data": {
      "text/plain": [
       "[527, 318, 1207, 1198, 50, 858, 1148, 260, 2324, 910]"
      ]
     },
     "execution_count": 41,
     "metadata": {},
     "output_type": "execute_result"
    }
   ],
   "source": [
    "userid = 1004\n",
    "mf.predict(userid)"
   ]
  },
  {
   "cell_type": "markdown",
   "id": "c2e6ecf3-c2a6-4573-bcd2-be1e9b971b2c",
   "metadata": {},
   "source": [
    "### 콘텐츠 기반 필터링 모델 테스트\n",
    "최근접 이웃 알고리즘을 활용한 콘텐츠 기반 필터링 모델의 경우 train.py를 통해 학습한 knn.joblib 파일을 로드하여 예측을 진행합니다."
   ]
  },
  {
   "cell_type": "code",
   "execution_count": 10,
   "id": "135ddc53-3b3a-48fd-bdb0-2905b8cc4b07",
   "metadata": {
    "tags": []
   },
   "outputs": [],
   "source": [
    "from models.KNN import KNN\n",
    "\n",
    "knn = KNN('models/knn.joblib')"
   ]
  },
  {
   "cell_type": "code",
   "execution_count": 11,
   "id": "5a21c72f-76b0-4e43-b9c7-b3d9056cbd3f",
   "metadata": {
    "tags": []
   },
   "outputs": [
    {
     "data": {
      "text/plain": [
       "array([1187, 1244, 1197,   69,  255, 1178, 1985, 1192,  667,  606])"
      ]
     },
     "execution_count": 11,
     "metadata": {},
     "output_type": "execute_result"
    }
   ],
   "source": [
    "USER_ID = 1\n",
    "TOP_NUM=10\n",
    "knn.predict(USER_ID, TOP_NUM)"
   ]
  }
 ],
 "metadata": {
  "kernelspec": {
   "display_name": "Python 3 (ipykernel)",
   "language": "python",
   "name": "python3"
  },
  "language_info": {
   "codemirror_mode": {
    "name": "ipython",
    "version": 3
   },
   "file_extension": ".py",
   "mimetype": "text/x-python",
   "name": "python",
   "nbconvert_exporter": "python",
   "pygments_lexer": "ipython3",
   "version": "3.10.11"
  }
 },
 "nbformat": 4,
 "nbformat_minor": 5
}
